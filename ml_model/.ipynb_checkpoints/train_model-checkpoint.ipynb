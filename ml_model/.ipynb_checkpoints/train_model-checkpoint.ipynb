{
 "cells": [
  {
   "cell_type": "code",
   "execution_count": 1,
   "metadata": {},
   "outputs": [],
   "source": [
    "import pandas as pd\n",
    "from sklearn import tree\n",
    "import matplotlib.pyplot as plt\n",
    "from sklearn.metrics import mean_squared_error\n",
    "\n",
    "all_vars = [\"D\",\"E\",\"H\",\"I\",\"ICU\",\"N\",\"R\",\"Rq\",\"S\"]\n",
    "simpler_vars = [\"D\",\"H\",\"I\",\"ICU\",\"R\",\"S\"]\n",
    "\n",
    "activities_to_train = [\"work\",\"leisure\",\"other\",\"transport\",\"school\"]\n",
    "\n",
    "vars_to_use = simpler_vars\n",
    "tree_depth = 6"
   ]
  },
  {
   "cell_type": "code",
   "execution_count": 2,
   "metadata": {},
   "outputs": [
    {
     "name": "stdout",
     "output_type": "stream",
     "text": [
      "Index(['Unnamed: 0', 't', 'id', 'D', 'E', 'H', 'I', 'ICU', 'Ia', 'Ims', 'Ips',\n",
      "       'Iss', 'N', 'R', 'Rq', 'S', 'home', 'leisure', 'other', 'school',\n",
      "       'transport', 'work'],\n",
      "      dtype='object')\n"
     ]
    }
   ],
   "source": [
    "data = pd.read_csv(\"data.csv\")\n",
    "print(data.columns)"
   ]
  },
  {
   "cell_type": "code",
   "execution_count": 3,
   "metadata": {},
   "outputs": [],
   "source": [
    "models = {}\n",
    "for act in activities_to_train:\n",
    "    clf = tree.DecisionTreeRegressor(max_depth=tree_depth)\n",
    "    clf = clf.fit(data[vars_to_use], data[act])\n",
    "    models[act] = clf\n"
   ]
  },
  {
   "cell_type": "code",
   "execution_count": 4,
   "metadata": {},
   "outputs": [],
   "source": [
    "# Plot\n",
    "# fig, axes = plt.subplots(nrows = 1,ncols = 1,figsize = (4,4), dpi=300)\n",
    "# tree.plot_tree(clf, feature_names=vars_to_use) \n",
    "# fig.savefig('imagename.png')"
   ]
  },
  {
   "cell_type": "code",
   "execution_count": 5,
   "metadata": {},
   "outputs": [
    {
     "name": "stdout",
     "output_type": "stream",
     "text": [
      "{'groups': 'one', 'params_to_try': {'delta_schooling': [0.5], 'xi': [1115970.9], 'icus': [3000], 'tests': [[0, 0]], 'testing': ['homogeneous'], 'eta': [0.1]}}\n",
      "{'groups': 'one', 'params_to_try': {'delta_schooling': [0.5], 'xi': [1115970.9], 'icus': [3000], 'tests': [[0, 0]], 'testing': ['homogeneous'], 'eta': [0.1]}}\n"
     ]
    }
   ],
   "source": [
    "import yaml\n",
    "from inspect import getsourcefile\n",
    "import os.path\n",
    "import sys\n",
    "import matplotlib\n",
    "matplotlib.use('Agg')\n",
    "import matplotlib.pyplot as plt\n",
    "import argparse\n",
    "current_path = os.path.abspath(getsourcefile(lambda:0))\n",
    "current_dir = os.path.dirname(current_path)\n",
    "parent_dir = os.path.dirname(current_dir)\n",
    "sys.path.insert(0, current_dir+\"/heuristics\")\n",
    "sys.path.insert(0, parent_dir+\"/fast_gradient\")\n",
    "sys.path.insert(0, current_dir+\"/heuristics/LP-Models\")\n",
    "parent_dir = current_dir[:current_dir.rfind(os.path.sep)]\n",
    "sys.path.insert(0, parent_dir)\n",
    "\n",
    "from group import SEIR_group, DynamicalModel\n",
    "import math\n",
    "import pprint\n",
    "import pandas as pd\n",
    "import pickle\n",
    "import numpy as np\n",
    "from fast_group import FastDynamicalModel\n",
    "from aux import *\n",
    "from scipy.optimize import Bounds,minimize,LinearConstraint\n",
    "from copy import deepcopy\n",
    "\n",
    "\n",
    "# Parameters to try\n",
    "with open(\"../parameters/run_params.yaml\") as file:\n",
    "        run_params = yaml.load(file, Loader=yaml.FullLoader)\n",
    "\n",
    "params_to_try = run_params[\"params_to_try\"]\n",
    "groups = run_params[\"groups\"]\n",
    "\n",
    "proportions = {'age_group_0_9': 0.12999753718396828, 'age_group_10_19': 0.1260199381062682, 'age_group_20_29': 0.13462273540296374, 'age_group_30_39': 0.1432185965976917, 'age_group_40_49': 0.13619350895266272, 'age_group_50_59': 0.1252867882416867, 'age_group_60_69': 0.09586005862219948, 'age_group_70_79': 0.06449748382900194, 'age_group_80_plus': 0.044303353063557066}\n",
    "\n",
    "\n",
    "# Global variables\n",
    "simulation_params = {\n",
    "    'dt':1.0,\n",
    "    'days': 90.0,\n",
    "    'region': \"fitted\",\n",
    "    'heuristic': 'benchmark',\n",
    "    'mixing_method': {'name': 'multi'}\n",
    "}\n",
    "simulation_params['time_periods'] = int(math.ceil(simulation_params[\"days\"]/simulation_params[\"dt\"]))\n",
    "\n",
    "if groups == \"all\":\n",
    "    age_groups = ['age_group_0_9', 'age_group_10_19', 'age_group_20_29', 'age_group_30_39', 'age_group_40_49',\n",
    "    'age_group_50_59', 'age_group_60_69', 'age_group_70_79', 'age_group_80_plus']\n",
    "\n",
    "    # Read group parameters\n",
    "    with open(\"../parameters/fitted.yaml\") as file:\n",
    "        universe_params = yaml.load(file, Loader=yaml.FullLoader)\n",
    "\n",
    "    # Read initialization\n",
    "    with open(\"../initialization/60days.yaml\") as file:\n",
    "        initialization = yaml.load(file, Loader=yaml.FullLoader)\n",
    "        start_day = 60\n",
    "\n",
    "    # Read econ parameters\n",
    "    with open(\"../parameters/econ.yaml\") as file:\n",
    "        econ_params = yaml.load(file, Loader=yaml.FullLoader)\n",
    "\n",
    "elif groups == \"one\":\n",
    "    age_groups = [\"all_age_groups\"]\n",
    "\n",
    "    # Read group parameters\n",
    "    with open(\"../parameters/one_group_fitted.yaml\") as file:\n",
    "        universe_params = yaml.load(file, Loader=yaml.FullLoader)\n",
    "\n",
    "    # Read initialization\n",
    "    with open(\"../initialization/60days_one_group.yaml\") as file:\n",
    "        initialization = yaml.load(file, Loader=yaml.FullLoader)\n",
    "        start_day = 60\n",
    "\n",
    "    # Read econ parameters\n",
    "    with open(\"../parameters/one_group_econ.yaml\") as file:\n",
    "        econ_params = yaml.load(file, Loader=yaml.FullLoader)\n",
    "\n",
    "\n",
    "cont = [ 'S', 'E', 'I', 'R', 'N', 'Ia', 'Ips', \\\n",
    "       'Ims', 'Iss', 'Rq', 'H', 'ICU', 'D' ]\n",
    "activities = ['home','leisure','other','school','transport','work']\n",
    "rel_activities = ['leisure','other','school','transport','work']\n",
    "\n",
    "\n",
    "# Define time variables\n",
    "simulation_params['time_periods'] = int(math.ceil(simulation_params[\"days\"]/simulation_params[\"dt\"]))\n",
    "\n",
    "\n",
    "# Define mixing parameter\n",
    "mixing_method = universe_params[\"mixing\"]\n",
    "\n"
   ]
  },
  {
   "cell_type": "code",
   "execution_count": 6,
   "metadata": {},
   "outputs": [],
   "source": [
    "experiment_params = {\n",
    "    'delta_schooling':0.5,\n",
    "    'xi':1115970.9,\n",
    "    'icus':3000,\n",
    "    'testing':\"homogeneous\",\n",
    "    'tests':[0,0],\n",
    "    'eta':0.1,\n",
    "}"
   ]
  },
  {
   "cell_type": "code",
   "execution_count": 8,
   "metadata": {},
   "outputs": [
    {
     "name": "stdout",
     "output_type": "stream",
     "text": [
      "{'state': {'all_age_groups': {'S': array([11311149.7446469]), 'E': array([266786.22993501]), 'I': 228452.0328794102, 'R': 459199.39785268664, 'N': 12265587.405314008, 'Ia': 0.0, 'Ips': 0.0, 'Ims': 0.0, 'Iss': 0.0, 'Rq': 3125.2873351046983, 'H': 7087.249831014941, 'ICU': 1896.202361377889, 'D': 513.8540966214588}}, 'economic_value': array([3.00727051e+08]), 'deaths': 30.91622492999113, 'deaths_value': 44702055.78961584, 'reward': array([2.56024995e+08])}\n",
      "{'state': {'all_age_groups': {'S': array([11254495.35910746]), 'E': array([256744.0579907]), 'I': array([238035.58214331]), 'R': 514133.356725843, 'N': 12263408.355967311, 'Ia': 0.0, 'Ips': 0.0, 'Ims': 0.0, 'Iss': 0.0, 'Rq': 3728.198749161627, 'H': 8329.803972611804, 'ICU': 2192.665008360407, 'D': 550.9752385022834}}, 'economic_value': array([3.14768878e+08]), 'deaths': 37.121141880824666, 'deaths_value': 53673802.64209203, 'reward': array([2.61095076e+08])}\n",
      "{'state': {'all_age_groups': {'S': array([11197051.41151062]), 'E': array([250001.99108986]), 'I': array([242712.70110516]), 'R': array([571371.79192379]), 'N': array([12261137.89562944]), 'Ia': array([0.]), 'Ips': array([0.]), 'Ims': array([0.]), 'Iss': array([0.]), 'Rq': 4435.0365672664375, 'H': array([9552.38216249]), 'ICU': array([2490.18946503]), 'D': array([594.49510945])}}, 'economic_value': array([2.8512499e+08]), 'deaths': array([43.51987095]), 'deaths_value': array([62925784.22697143]), 'reward': array([2.22199206e+08])}\n"
     ]
    },
    {
     "ename": "ValueError",
     "evalue": "Found array with dim 3. Estimator expected <= 2.",
     "output_type": "error",
     "traceback": [
      "\u001b[0;31m---------------------------------------------------------------------------\u001b[0m",
      "\u001b[0;31mValueError\u001b[0m                                Traceback (most recent call last)",
      "\u001b[0;32m<ipython-input-8-90e12affbedf>\u001b[0m in \u001b[0;36m<module>\u001b[0;34m\u001b[0m\n\u001b[1;32m     28\u001b[0m     \u001b[0mprint\u001b[0m\u001b[0;34m(\u001b[0m\u001b[0mstep_result\u001b[0m\u001b[0;34m)\u001b[0m\u001b[0;34m\u001b[0m\u001b[0;34m\u001b[0m\u001b[0m\n\u001b[1;32m     29\u001b[0m     \u001b[0mstate_result\u001b[0m \u001b[0;34m=\u001b[0m \u001b[0mstep_result\u001b[0m\u001b[0;34m[\u001b[0m\u001b[0;34m'state'\u001b[0m\u001b[0;34m]\u001b[0m\u001b[0;34m[\u001b[0m\u001b[0;34m'all_age_groups'\u001b[0m\u001b[0;34m]\u001b[0m\u001b[0;34m\u001b[0m\u001b[0;34m\u001b[0m\u001b[0m\n\u001b[0;32m---> 30\u001b[0;31m     \u001b[0malpha\u001b[0m \u001b[0;34m=\u001b[0m \u001b[0mpredict_from_state\u001b[0m\u001b[0;34m(\u001b[0m\u001b[0mstate_result\u001b[0m\u001b[0;34m)\u001b[0m\u001b[0;34m\u001b[0m\u001b[0;34m\u001b[0m\u001b[0m\n\u001b[0m\u001b[1;32m     31\u001b[0m     \u001b[0ml_policy\u001b[0m\u001b[0;34m.\u001b[0m\u001b[0mappend\u001b[0m\u001b[0;34m(\u001b[0m\u001b[0mdeepcopy\u001b[0m\u001b[0;34m(\u001b[0m\u001b[0malpha\u001b[0m\u001b[0;34m)\u001b[0m\u001b[0;34m)\u001b[0m\u001b[0;34m\u001b[0m\u001b[0;34m\u001b[0m\u001b[0m\n\u001b[1;32m     32\u001b[0m     \u001b[0ma_tests_policy\u001b[0m\u001b[0;34m.\u001b[0m\u001b[0mappend\u001b[0m\u001b[0;34m(\u001b[0m\u001b[0mdeepcopy\u001b[0m\u001b[0;34m(\u001b[0m\u001b[0ma_tests\u001b[0m\u001b[0;34m)\u001b[0m\u001b[0;34m)\u001b[0m\u001b[0;34m\u001b[0m\u001b[0;34m\u001b[0m\u001b[0m\n",
      "\u001b[0;32m<ipython-input-7-38d6d60678e8>\u001b[0m in \u001b[0;36mpredict_from_state\u001b[0;34m(state_result)\u001b[0m\n\u001b[1;32m      3\u001b[0m     \u001b[0;32mfor\u001b[0m \u001b[0mact\u001b[0m \u001b[0;32min\u001b[0m \u001b[0mactivities_to_train\u001b[0m\u001b[0;34m:\u001b[0m\u001b[0;34m\u001b[0m\u001b[0;34m\u001b[0m\u001b[0m\n\u001b[1;32m      4\u001b[0m         \u001b[0mx\u001b[0m \u001b[0;34m=\u001b[0m \u001b[0;34m[\u001b[0m\u001b[0mstate_result\u001b[0m\u001b[0;34m[\u001b[0m\u001b[0mc\u001b[0m\u001b[0;34m]\u001b[0m \u001b[0;32mfor\u001b[0m \u001b[0mc\u001b[0m \u001b[0;32min\u001b[0m \u001b[0mvars_to_use\u001b[0m\u001b[0;34m]\u001b[0m\u001b[0;34m\u001b[0m\u001b[0;34m\u001b[0m\u001b[0m\n\u001b[0;32m----> 5\u001b[0;31m         \u001b[0malpha\u001b[0m\u001b[0;34m[\u001b[0m\u001b[0mact\u001b[0m\u001b[0;34m]\u001b[0m \u001b[0;34m=\u001b[0m \u001b[0mmodels\u001b[0m\u001b[0;34m[\u001b[0m\u001b[0mact\u001b[0m\u001b[0;34m]\u001b[0m\u001b[0;34m.\u001b[0m\u001b[0mpredict\u001b[0m\u001b[0;34m(\u001b[0m\u001b[0;34m[\u001b[0m\u001b[0mx\u001b[0m\u001b[0;34m]\u001b[0m\u001b[0;34m)\u001b[0m\u001b[0;34m\u001b[0m\u001b[0;34m\u001b[0m\u001b[0m\n\u001b[0m\u001b[1;32m      6\u001b[0m     \u001b[0;32mreturn\u001b[0m \u001b[0;34m{\u001b[0m\u001b[0;34m\"all_age_groups\"\u001b[0m\u001b[0;34m:\u001b[0m\u001b[0malpha\u001b[0m\u001b[0;34m}\u001b[0m\u001b[0;34m\u001b[0m\u001b[0;34m\u001b[0m\u001b[0m\n",
      "\u001b[0;32m~/opt/anaconda3/lib/python3.7/site-packages/sklearn/tree/_classes.py\u001b[0m in \u001b[0;36mpredict\u001b[0;34m(self, X, check_input)\u001b[0m\n\u001b[1;32m    417\u001b[0m         \"\"\"\n\u001b[1;32m    418\u001b[0m         \u001b[0mcheck_is_fitted\u001b[0m\u001b[0;34m(\u001b[0m\u001b[0mself\u001b[0m\u001b[0;34m)\u001b[0m\u001b[0;34m\u001b[0m\u001b[0;34m\u001b[0m\u001b[0m\n\u001b[0;32m--> 419\u001b[0;31m         \u001b[0mX\u001b[0m \u001b[0;34m=\u001b[0m \u001b[0mself\u001b[0m\u001b[0;34m.\u001b[0m\u001b[0m_validate_X_predict\u001b[0m\u001b[0;34m(\u001b[0m\u001b[0mX\u001b[0m\u001b[0;34m,\u001b[0m \u001b[0mcheck_input\u001b[0m\u001b[0;34m)\u001b[0m\u001b[0;34m\u001b[0m\u001b[0;34m\u001b[0m\u001b[0m\n\u001b[0m\u001b[1;32m    420\u001b[0m         \u001b[0mproba\u001b[0m \u001b[0;34m=\u001b[0m \u001b[0mself\u001b[0m\u001b[0;34m.\u001b[0m\u001b[0mtree_\u001b[0m\u001b[0;34m.\u001b[0m\u001b[0mpredict\u001b[0m\u001b[0;34m(\u001b[0m\u001b[0mX\u001b[0m\u001b[0;34m)\u001b[0m\u001b[0;34m\u001b[0m\u001b[0;34m\u001b[0m\u001b[0m\n\u001b[1;32m    421\u001b[0m         \u001b[0mn_samples\u001b[0m \u001b[0;34m=\u001b[0m \u001b[0mX\u001b[0m\u001b[0;34m.\u001b[0m\u001b[0mshape\u001b[0m\u001b[0;34m[\u001b[0m\u001b[0;36m0\u001b[0m\u001b[0;34m]\u001b[0m\u001b[0;34m\u001b[0m\u001b[0;34m\u001b[0m\u001b[0m\n",
      "\u001b[0;32m~/opt/anaconda3/lib/python3.7/site-packages/sklearn/tree/_classes.py\u001b[0m in \u001b[0;36m_validate_X_predict\u001b[0;34m(self, X, check_input)\u001b[0m\n\u001b[1;32m    378\u001b[0m         \u001b[0;34m\"\"\"Validate X whenever one tries to predict, apply, predict_proba\"\"\"\u001b[0m\u001b[0;34m\u001b[0m\u001b[0;34m\u001b[0m\u001b[0m\n\u001b[1;32m    379\u001b[0m         \u001b[0;32mif\u001b[0m \u001b[0mcheck_input\u001b[0m\u001b[0;34m:\u001b[0m\u001b[0;34m\u001b[0m\u001b[0;34m\u001b[0m\u001b[0m\n\u001b[0;32m--> 380\u001b[0;31m             \u001b[0mX\u001b[0m \u001b[0;34m=\u001b[0m \u001b[0mcheck_array\u001b[0m\u001b[0;34m(\u001b[0m\u001b[0mX\u001b[0m\u001b[0;34m,\u001b[0m \u001b[0mdtype\u001b[0m\u001b[0;34m=\u001b[0m\u001b[0mDTYPE\u001b[0m\u001b[0;34m,\u001b[0m \u001b[0maccept_sparse\u001b[0m\u001b[0;34m=\u001b[0m\u001b[0;34m\"csr\"\u001b[0m\u001b[0;34m)\u001b[0m\u001b[0;34m\u001b[0m\u001b[0;34m\u001b[0m\u001b[0m\n\u001b[0m\u001b[1;32m    381\u001b[0m             if issparse(X) and (X.indices.dtype != np.intc or\n\u001b[1;32m    382\u001b[0m                                 X.indptr.dtype != np.intc):\n",
      "\u001b[0;32m~/opt/anaconda3/lib/python3.7/site-packages/sklearn/utils/validation.py\u001b[0m in \u001b[0;36mcheck_array\u001b[0;34m(array, accept_sparse, accept_large_sparse, dtype, order, copy, force_all_finite, ensure_2d, allow_nd, ensure_min_samples, ensure_min_features, warn_on_dtype, estimator)\u001b[0m\n\u001b[1;32m    572\u001b[0m         \u001b[0;32mif\u001b[0m \u001b[0;32mnot\u001b[0m \u001b[0mallow_nd\u001b[0m \u001b[0;32mand\u001b[0m \u001b[0marray\u001b[0m\u001b[0;34m.\u001b[0m\u001b[0mndim\u001b[0m \u001b[0;34m>=\u001b[0m \u001b[0;36m3\u001b[0m\u001b[0;34m:\u001b[0m\u001b[0;34m\u001b[0m\u001b[0;34m\u001b[0m\u001b[0m\n\u001b[1;32m    573\u001b[0m             raise ValueError(\"Found array with dim %d. %s expected <= 2.\"\n\u001b[0;32m--> 574\u001b[0;31m                              % (array.ndim, estimator_name))\n\u001b[0m\u001b[1;32m    575\u001b[0m \u001b[0;34m\u001b[0m\u001b[0m\n\u001b[1;32m    576\u001b[0m         \u001b[0;32mif\u001b[0m \u001b[0mforce_all_finite\u001b[0m\u001b[0;34m:\u001b[0m\u001b[0;34m\u001b[0m\u001b[0;34m\u001b[0m\u001b[0m\n",
      "\u001b[0;31mValueError\u001b[0m: Found array with dim 3. Estimator expected <= 2."
     ]
    }
   ],
   "source": [
    "# Create dynamical method\n",
    "\n",
    "ag_alpha = {\n",
    "    \"home\": 1.0,\n",
    "    \"leisure\": 0,\n",
    "    \"other\": 0,\n",
    "    \"school\": 0,\n",
    "    \"transport\": 0,\n",
    "    \"work\": 0,\n",
    "}\n",
    "\n",
    "alpha = {\n",
    "    ag:deepcopy(ag_alpha) for ag in age_groups\n",
    "}\n",
    "\n",
    "l_policy = []\n",
    "a_tests_policy = []\n",
    "m_tests_policy = []\n",
    "dynModel = DynamicalModel(universe_params, econ_params, experiment_params, initialization, simulation_params['dt'], simulation_params['time_periods'], mixing_method, start_day, experiment_params[\"eta\"])\n",
    "if experiment_params[\"testing\"] == \"homogeneous\":\n",
    "    m_tests = {ag:experiment_params[\"tests\"][0]/len(age_groups) for ag in age_groups}\n",
    "    a_tests = {ag:experiment_params[\"tests\"][1]/len(age_groups) for ag in age_groups}\n",
    "\n",
    "state_result = initialization['all_age_groups']\n",
    "alpha = predict_from_state(state_result)\n",
    "for t in range(simulation_params['time_periods']):\n",
    "    print(alpha)\n",
    "    step_result = dynModel.take_time_step(m_tests, a_tests, alpha)\n",
    "    print(step_result)\n",
    "    state_result = step_result['state']['all_age_groups']\n",
    "    alpha = predict_from_state(state_result)\n",
    "    l_policy.append(deepcopy(alpha))\n",
    "    a_tests_policy.append(deepcopy(a_tests))\n",
    "    m_tests_policy.append(deepcopy(m_tests))\n",
    "\n",
    "end_alphas, end_a_tests, end_m_tests = dynModel.take_end_steps()\n",
    "\n",
    "l_policy += end_alphas\n",
    "a_tests_policy += end_a_tests\n",
    "m_tests_policy += end_m_tests\n",
    "\n",
    "print(float(dynModel.get_total_reward()))"
   ]
  },
  {
   "cell_type": "code",
   "execution_count": 7,
   "metadata": {},
   "outputs": [],
   "source": [
    "def predict_from_state(state_result):\n",
    "    alpha = {}\n",
    "    for act in activities_to_train:\n",
    "        x = [state_result[c] for c in vars_to_use]\n",
    "        alpha[act] = models[act].predict([x])\n",
    "    return {\"all_age_groups\":alpha}"
   ]
  },
  {
   "cell_type": "code",
   "execution_count": 10,
   "metadata": {},
   "outputs": [
    {
     "data": {
      "text/plain": [
       "{'all_age_groups': {'D': 482.93787169146765,\n",
       "  'E': 277187.12140755146,\n",
       "  'H': 5879.35910757632,\n",
       "  'I': 212207.0033700298,\n",
       "  'ICU': 1613.043161735563,\n",
       "  'Ia': 0.0,\n",
       "  'Ims': 0.0,\n",
       "  'Ips': 0.0,\n",
       "  'Iss': 0.0,\n",
       "  'N': 12267611.504317332,\n",
       "  'R': 408171.7460135,\n",
       "  'Rq': 2623.154481818964,\n",
       "  'S': 11370045.633526247}}"
      ]
     },
     "execution_count": 10,
     "metadata": {},
     "output_type": "execute_result"
    }
   ],
   "source": [
    "initialization"
   ]
  },
  {
   "cell_type": "code",
   "execution_count": null,
   "metadata": {},
   "outputs": [],
   "source": []
  }
 ],
 "metadata": {
  "kernelspec": {
   "display_name": "Python 3",
   "language": "python",
   "name": "python3"
  },
  "language_info": {
   "codemirror_mode": {
    "name": "ipython",
    "version": 3
   },
   "file_extension": ".py",
   "mimetype": "text/x-python",
   "name": "python",
   "nbconvert_exporter": "python",
   "pygments_lexer": "ipython3",
   "version": "3.7.6"
  }
 },
 "nbformat": 4,
 "nbformat_minor": 4
}
