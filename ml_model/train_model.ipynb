{
 "cells": [
  {
   "cell_type": "code",
   "execution_count": 41,
   "metadata": {},
   "outputs": [],
   "source": [
    "import pandas as pd\n",
    "from sklearn import tree\n",
    "import matplotlib.pyplot as plt\n",
    "from sklearn.metrics import mean_squared_error\n",
    "\n",
    "\n",
    "\n",
    "all_vars = [\"t\",\"D\",\"E\",\"H\",\"I\",\"ICU\",\"N\",\"R\",\"Rq\",\"S\"]\n",
    "simpler_vars = [\"t\",\"D\",\"H\",\"ICU\",\"Rq\"]\n",
    "\n",
    "activities_to_train = [\"work\",\"leisure\",\"other\",\"transport\",\"school\"]\n",
    "\n",
    "vars_to_use = all_vars\n",
    "tree_depth = 6\n",
    "population = 12278210"
   ]
  },
  {
   "cell_type": "code",
   "execution_count": 42,
   "metadata": {},
   "outputs": [
    {
     "name": "stdout",
     "output_type": "stream",
     "text": [
      "Index(['Unnamed: 0', 't', 'id', 'D', 'E', 'H', 'I', 'ICU', 'Ia', 'Ims', 'Ips',\n",
      "       'Iss', 'N', 'R', 'Rq', 'S', 'home', 'leisure', 'other', 'school',\n",
      "       'transport', 'work'],\n",
      "      dtype='object')\n",
      "90000\n"
     ]
    }
   ],
   "source": [
    "data = pd.read_csv(\"data.csv\")\n",
    "print(data.columns)\n",
    "print(len(data))\n",
    "data[\"I\"] = data[\"I\"]/population"
   ]
  },
  {
   "cell_type": "code",
   "execution_count": 43,
   "metadata": {},
   "outputs": [],
   "source": [
    "models = {}\n",
    "for act in activities_to_train:\n",
    "    clf = tree.DecisionTreeRegressor(max_depth=tree_depth)\n",
    "    clf = clf.fit(data[vars_to_use], data[act])\n",
    "    models[act] = clf\n"
   ]
  },
  {
   "cell_type": "code",
   "execution_count": 1,
   "metadata": {},
   "outputs": [
    {
     "ename": "NameError",
     "evalue": "name 'activities_to_train' is not defined",
     "output_type": "error",
     "traceback": [
      "\u001b[0;31m---------------------------------------------------------------------------\u001b[0m",
      "\u001b[0;31mNameError\u001b[0m                                 Traceback (most recent call last)",
      "\u001b[0;32m<ipython-input-1-4d5db835e8ee>\u001b[0m in \u001b[0;36m<module>\u001b[0;34m\u001b[0m\n\u001b[1;32m      1\u001b[0m \u001b[0;31m# Plot\u001b[0m\u001b[0;34m\u001b[0m\u001b[0;34m\u001b[0m\u001b[0;34m\u001b[0m\u001b[0m\n\u001b[0;32m----> 2\u001b[0;31m \u001b[0;32mfor\u001b[0m \u001b[0mact\u001b[0m \u001b[0;32min\u001b[0m \u001b[0mactivities_to_train\u001b[0m\u001b[0;34m:\u001b[0m\u001b[0;34m\u001b[0m\u001b[0;34m\u001b[0m\u001b[0m\n\u001b[0m\u001b[1;32m      3\u001b[0m     \u001b[0mfig\u001b[0m\u001b[0;34m,\u001b[0m \u001b[0maxes\u001b[0m \u001b[0;34m=\u001b[0m \u001b[0mplt\u001b[0m\u001b[0;34m.\u001b[0m\u001b[0msubplots\u001b[0m\u001b[0;34m(\u001b[0m\u001b[0mnrows\u001b[0m \u001b[0;34m=\u001b[0m \u001b[0;36m1\u001b[0m\u001b[0;34m,\u001b[0m\u001b[0mncols\u001b[0m \u001b[0;34m=\u001b[0m \u001b[0;36m1\u001b[0m\u001b[0;34m,\u001b[0m\u001b[0mfigsize\u001b[0m \u001b[0;34m=\u001b[0m \u001b[0;34m(\u001b[0m\u001b[0;36m4\u001b[0m\u001b[0;34m,\u001b[0m\u001b[0;36m4\u001b[0m\u001b[0;34m)\u001b[0m\u001b[0;34m,\u001b[0m \u001b[0mdpi\u001b[0m\u001b[0;34m=\u001b[0m\u001b[0;36m300\u001b[0m\u001b[0;34m)\u001b[0m\u001b[0;34m\u001b[0m\u001b[0;34m\u001b[0m\u001b[0m\n\u001b[1;32m      4\u001b[0m     \u001b[0mtree\u001b[0m\u001b[0;34m.\u001b[0m\u001b[0mplot_tree\u001b[0m\u001b[0;34m(\u001b[0m\u001b[0mmodels\u001b[0m\u001b[0;34m[\u001b[0m\u001b[0mact\u001b[0m\u001b[0;34m]\u001b[0m\u001b[0;34m,\u001b[0m \u001b[0mfeature_names\u001b[0m\u001b[0;34m=\u001b[0m\u001b[0mvars_to_use\u001b[0m\u001b[0;34m,\u001b[0m \u001b[0mclass_names\u001b[0m \u001b[0;34m=\u001b[0m \u001b[0;34m[\u001b[0m\u001b[0;34m'low'\u001b[0m\u001b[0;34m,\u001b[0m\u001b[0;34m'high'\u001b[0m\u001b[0;34m]\u001b[0m\u001b[0;34m)\u001b[0m\u001b[0;34m\u001b[0m\u001b[0;34m\u001b[0m\u001b[0m\n\u001b[1;32m      5\u001b[0m     \u001b[0mfig\u001b[0m\u001b[0;34m.\u001b[0m\u001b[0msavefig\u001b[0m\u001b[0;34m(\u001b[0m\u001b[0;34m'%s.png'\u001b[0m\u001b[0;34m%\u001b[0m\u001b[0mact\u001b[0m\u001b[0;34m)\u001b[0m\u001b[0;34m\u001b[0m\u001b[0;34m\u001b[0m\u001b[0m\n",
      "\u001b[0;31mNameError\u001b[0m: name 'activities_to_train' is not defined"
     ]
    }
   ],
   "source": [
    "# Plot\n",
    "for act in activities_to_train:\n",
    "    fig, axes = plt.subplots(nrows = 1,ncols = 1,figsize = (4,4), dpi=300)\n",
    "    tree.plot_tree(models[act], feature_names=vars_to_use) \n",
    "    fig.savefig('%s.png'%act)"
   ]
  },
  {
   "cell_type": "code",
   "execution_count": 45,
   "metadata": {},
   "outputs": [],
   "source": [
    "import yaml\n",
    "from inspect import getsourcefile\n",
    "import os.path\n",
    "import sys\n",
    "import matplotlib\n",
    "matplotlib.use('Agg')\n",
    "import matplotlib.pyplot as plt\n",
    "import argparse\n",
    "current_path = os.path.abspath(getsourcefile(lambda:0))\n",
    "current_dir = os.path.dirname(current_path)\n",
    "parent_dir = os.path.dirname(current_dir)\n",
    "sys.path.insert(0, current_dir+\"/heuristics\")\n",
    "sys.path.insert(0, parent_dir+\"/fast_gradient\")\n",
    "sys.path.insert(0, current_dir+\"/heuristics/LP-Models\")\n",
    "parent_dir = current_dir[:current_dir.rfind(os.path.sep)]\n",
    "sys.path.insert(0, parent_dir)\n",
    "\n",
    "from group import SEIR_group, DynamicalModel\n",
    "import math\n",
    "import pprint\n",
    "import pandas as pd\n",
    "import pickle\n",
    "import numpy as np\n",
    "from fast_group import FastDynamicalModel\n",
    "from aux import *\n",
    "from scipy.optimize import Bounds,minimize,LinearConstraint\n",
    "from copy import deepcopy\n",
    "\n",
    "\n",
    "# Parameters to try\n",
    "with open(\"../parameters/run_params.yaml\") as file:\n",
    "        run_params = yaml.load(file, Loader=yaml.FullLoader)\n",
    "\n",
    "params_to_try = run_params[\"params_to_try\"]\n",
    "groups = run_params[\"groups\"]\n",
    "\n",
    "proportions = {'age_group_0_9': 0.12999753718396828, 'age_group_10_19': 0.1260199381062682, 'age_group_20_29': 0.13462273540296374, 'age_group_30_39': 0.1432185965976917, 'age_group_40_49': 0.13619350895266272, 'age_group_50_59': 0.1252867882416867, 'age_group_60_69': 0.09586005862219948, 'age_group_70_79': 0.06449748382900194, 'age_group_80_plus': 0.044303353063557066}\n",
    "\n",
    "\n",
    "# Global variables\n",
    "simulation_params = {\n",
    "    'dt':1.0,\n",
    "    'days': 90.0,\n",
    "    'region': \"fitted\",\n",
    "    'heuristic': 'benchmark',\n",
    "    'mixing_method': {'name': 'multi'}\n",
    "}\n",
    "simulation_params['time_periods'] = int(math.ceil(simulation_params[\"days\"]/simulation_params[\"dt\"]))\n",
    "\n",
    "if groups == \"all\":\n",
    "    age_groups = ['age_group_0_9', 'age_group_10_19', 'age_group_20_29', 'age_group_30_39', 'age_group_40_49',\n",
    "    'age_group_50_59', 'age_group_60_69', 'age_group_70_79', 'age_group_80_plus']\n",
    "\n",
    "    # Read group parameters\n",
    "    with open(\"../parameters/fitted.yaml\") as file:\n",
    "        universe_params = yaml.load(file, Loader=yaml.FullLoader)\n",
    "\n",
    "    # Read initialization\n",
    "    with open(\"../initialization/60days.yaml\") as file:\n",
    "        initialization = yaml.load(file, Loader=yaml.FullLoader)\n",
    "        start_day = 60\n",
    "\n",
    "    # Read econ parameters\n",
    "    with open(\"../parameters/econ.yaml\") as file:\n",
    "        econ_params = yaml.load(file, Loader=yaml.FullLoader)\n",
    "\n",
    "elif groups == \"one\":\n",
    "    age_groups = [\"all_age_groups\"]\n",
    "\n",
    "    # Read group parameters\n",
    "    with open(\"../parameters/one_group_fitted.yaml\") as file:\n",
    "        universe_params = yaml.load(file, Loader=yaml.FullLoader)\n",
    "\n",
    "    # Read initialization\n",
    "    with open(\"../initialization/60days_one_group.yaml\") as file:\n",
    "        initialization = yaml.load(file, Loader=yaml.FullLoader)\n",
    "        start_day = 60\n",
    "\n",
    "    # Read econ parameters\n",
    "    with open(\"../parameters/one_group_econ.yaml\") as file:\n",
    "        econ_params = yaml.load(file, Loader=yaml.FullLoader)\n",
    "\n",
    "\n",
    "cont = [ 'S', 'E', 'I', 'R', 'N', 'Ia', 'Ips', \\\n",
    "       'Ims', 'Iss', 'Rq', 'H', 'ICU', 'D' ]\n",
    "activities = ['home','leisure','other','school','transport','work']\n",
    "rel_activities = ['leisure','other','school','transport','work']\n",
    "\n",
    "\n",
    "# Define time variables\n",
    "simulation_params['time_periods'] = int(math.ceil(simulation_params[\"days\"]/simulation_params[\"dt\"]))\n",
    "\n",
    "\n",
    "# Define mixing parameter\n",
    "mixing_method = universe_params[\"mixing\"]\n",
    "\n"
   ]
  },
  {
   "cell_type": "code",
   "execution_count": 46,
   "metadata": {},
   "outputs": [],
   "source": [
    "experiment_params = {\n",
    "    'delta_schooling':0.5,\n",
    "    'xi':1115970.9,\n",
    "    'icus':3000,\n",
    "    'testing':\"homogeneous\",\n",
    "    'tests':[0,0],\n",
    "    'eta':0.1,\n",
    "}"
   ]
  },
  {
   "cell_type": "code",
   "execution_count": 47,
   "metadata": {},
   "outputs": [],
   "source": [
    "def predict_from_state(state_result):\n",
    "    alpha = {\"home\":1.0}\n",
    "    for act in activities_to_train:\n",
    "        x = [state_result[c] for c in vars_to_use]\n",
    "        alpha[act] = models[act].predict([x])[0]\n",
    "    return {\"all_age_groups\":alpha}"
   ]
  },
  {
   "cell_type": "code",
   "execution_count": 48,
   "metadata": {},
   "outputs": [
    {
     "name": "stdout",
     "output_type": "stream",
     "text": [
      "7182.0261822102675\n",
      "49020510115.62352\n",
      "38.63595198128934\n"
     ]
    }
   ],
   "source": [
    "# Create dynamical method\n",
    "\n",
    "ag_alpha = {\n",
    "    \"home\": 1.0,\n",
    "    \"leisure\": 0,\n",
    "    \"other\": 0,\n",
    "    \"school\": 0,\n",
    "    \"transport\": 0,\n",
    "    \"work\": 0,\n",
    "}\n",
    "\n",
    "alpha = {\n",
    "    ag:deepcopy(ag_alpha) for ag in age_groups\n",
    "}\n",
    "\n",
    "l_policy = []\n",
    "a_tests_policy = []\n",
    "m_tests_policy = []\n",
    "dynModel = DynamicalModel(universe_params, econ_params, experiment_params, initialization, simulation_params['dt'], simulation_params['time_periods'], mixing_method, start_day, experiment_params[\"eta\"])\n",
    "if experiment_params[\"testing\"] == \"homogeneous\":\n",
    "    m_tests = {ag:experiment_params[\"tests\"][0]/len(age_groups) for ag in age_groups}\n",
    "    a_tests = {ag:experiment_params[\"tests\"][1]/len(age_groups) for ag in age_groups}\n",
    "\n",
    "state_result = initialization['all_age_groups']\n",
    "state_result[\"t\"]=0\n",
    "state_result[\"I\"] = state_result[\"I\"]/population\n",
    "alpha = predict_from_state(state_result)\n",
    "for t in range(simulation_params['time_periods']):\n",
    "    step_result = dynModel.take_time_step(m_tests, a_tests, alpha)\n",
    "    state_result = step_result['state']['all_age_groups']\n",
    "    state_result[\"I\"] = state_result[\"I\"]/population\n",
    "    state_result[\"t\"]=t+1\n",
    "    alpha = predict_from_state(state_result)\n",
    "    l_policy.append(deepcopy(alpha))\n",
    "    a_tests_policy.append(deepcopy(a_tests))\n",
    "    m_tests_policy.append(deepcopy(m_tests))\n",
    "\n",
    "end_alphas, end_a_tests, end_m_tests = dynModel.take_end_steps()\n",
    "\n",
    "l_policy += end_alphas\n",
    "a_tests_policy += end_a_tests\n",
    "m_tests_policy += end_m_tests\n",
    "\n",
    "print(float(dynModel.get_total_deaths()))\n",
    "print(float(dynModel.get_total_economic_value()))\n",
    "print(float(dynModel.get_total_reward())/1e9)\n",
    "\n"
   ]
  },
  {
   "cell_type": "code",
   "execution_count": 49,
   "metadata": {},
   "outputs": [
    {
     "data": {
      "text/plain": [
       "1.1352941176470588"
      ]
     },
     "execution_count": 49,
     "metadata": {},
     "output_type": "execute_result"
    }
   ],
   "source": [
    "38.6/34"
   ]
  },
  {
   "cell_type": "code",
   "execution_count": 613,
   "metadata": {},
   "outputs": [
    {
     "data": {
      "text/plain": [
       "{'all_age_groups': {'D': 482.93787169146765,\n",
       "  'E': 277187.12140755146,\n",
       "  'H': 5879.35910757632,\n",
       "  'I': 212207.0033700298,\n",
       "  'ICU': 1613.043161735563,\n",
       "  'Ia': 0.0,\n",
       "  'Ims': 0.0,\n",
       "  'Ips': 0.0,\n",
       "  'Iss': 0.0,\n",
       "  'N': 12267611.504317332,\n",
       "  'R': 408171.7460135,\n",
       "  'Rq': 2623.154481818964,\n",
       "  'S': 11370045.633526247,\n",
       "  't': 0}}"
      ]
     },
     "execution_count": 613,
     "metadata": {},
     "output_type": "execute_result"
    }
   ],
   "source": [
    "initialization"
   ]
  },
  {
   "cell_type": "code",
   "execution_count": 614,
   "metadata": {},
   "outputs": [
    {
     "data": {
      "text/plain": [
       "12278209.998940153"
      ]
     },
     "execution_count": 614,
     "metadata": {},
     "output_type": "execute_result"
    }
   ],
   "source": [
    "12267611.504317332+2623.154481818964+1613.043161735563+482.93787169146765+5879.35910757632"
   ]
  },
  {
   "cell_type": "code",
   "execution_count": null,
   "metadata": {},
   "outputs": [],
   "source": []
  }
 ],
 "metadata": {
  "kernelspec": {
   "display_name": "Python 3",
   "language": "python",
   "name": "python3"
  },
  "language_info": {
   "codemirror_mode": {
    "name": "ipython",
    "version": 3
   },
   "file_extension": ".py",
   "mimetype": "text/x-python",
   "name": "python",
   "nbconvert_exporter": "python",
   "pygments_lexer": "ipython3",
   "version": "3.7.6"
  }
 },
 "nbformat": 4,
 "nbformat_minor": 4
}
