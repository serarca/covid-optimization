{
 "cells": [
  {
   "cell_type": "markdown",
   "metadata": {},
   "source": [
    "# Generate all the relevant data for Ile de France region"
   ]
  },
  {
   "cell_type": "code",
   "execution_count": 1,
   "metadata": {},
   "outputs": [],
   "source": [
    "import numpy as np\n",
    "import pandas as pd"
   ]
  },
  {
   "cell_type": "markdown",
   "metadata": {},
   "source": [
    "# Regions"
   ]
  },
  {
   "cell_type": "code",
   "execution_count": 2,
   "metadata": {},
   "outputs": [],
   "source": [
    "regions = [\"Ile-de-France\"]"
   ]
  },
  {
   "cell_type": "markdown",
   "metadata": {},
   "source": [
    "# Age groups"
   ]
  },
  {
   "cell_type": "code",
   "execution_count": 3,
   "metadata": {},
   "outputs": [
    {
     "name": "stdout",
     "output_type": "stream",
     "text": [
      "['age_group_0_9', 'age_group_10_19', 'age_group_20_29', 'age_group_30_39', 'age_group_40_49', 'age_group_50_59', 'age_group_60_69', 'age_group_70_79', 'age_group_80_plus']\n"
     ]
    }
   ],
   "source": [
    "age_groups = [\"age_group_0_9\", \"age_group_10_19\",\"age_group_20_29\",\"age_group_30_39\",\\\n",
    "              \"age_group_40_49\",\"age_group_50_59\",\"age_group_60_69\",\"age_group_70_79\",\"age_group_80_plus\"]\n",
    "\n",
    "print(age_groups)"
   ]
  },
  {
   "cell_type": "markdown",
   "metadata": {},
   "source": [
    "# Lockdown patterns"
   ]
  },
  {
   "cell_type": "code",
   "execution_count": 4,
   "metadata": {},
   "outputs": [
    {
     "name": "stdout",
     "output_type": "stream",
     "text": [
      "{'age_group_0_9':    home  work  school  transport  leisure  other\n",
      "0     1     0     0.0        0.0      0.0    0.0\n",
      "1     1     1     0.5        0.5      0.0    0.0\n",
      "2     1     1     1.0        1.0      0.0    0.0\n",
      "3     1     1     1.0        1.0      0.5    0.5\n",
      "4     1     1     1.0        1.0      1.0    1.0, 'age_group_10_19':    home  work  school  transport  leisure  other\n",
      "0     1     0     0.0        0.0      0.0    0.0\n",
      "1     1     1     0.5        0.5      0.0    0.0\n",
      "2     1     1     1.0        1.0      0.0    0.0\n",
      "3     1     1     1.0        1.0      0.5    0.5\n",
      "4     1     1     1.0        1.0      1.0    1.0, 'age_group_20_29':    home  work  school  transport  leisure  other\n",
      "0     1   0.0       0        0.0      0.0    0.0\n",
      "1     1   0.5       1        0.5      0.0    0.0\n",
      "2     1   1.0       1        1.0      0.0    0.0\n",
      "3     1   1.0       1        1.0      0.5    0.5\n",
      "4     1   1.0       1        1.0      1.0    1.0, 'age_group_30_39':    home  work  school  transport  leisure  other\n",
      "0     1   0.0       0        0.0      0.0    0.0\n",
      "1     1   0.5       1        0.5      0.0    0.0\n",
      "2     1   1.0       1        1.0      0.0    0.0\n",
      "3     1   1.0       1        1.0      0.5    0.5\n",
      "4     1   1.0       1        1.0      1.0    1.0, 'age_group_40_49':    home  work  school  transport  leisure  other\n",
      "0     1   0.0       0        0.0      0.0    0.0\n",
      "1     1   0.5       1        0.5      0.0    0.0\n",
      "2     1   1.0       1        1.0      0.0    0.0\n",
      "3     1   1.0       1        1.0      0.5    0.5\n",
      "4     1   1.0       1        1.0      1.0    1.0, 'age_group_50_59':    home  work  school  transport  leisure  other\n",
      "0     1   0.0       0        0.0      0.0    0.0\n",
      "1     1   0.5       1        0.5      0.0    0.0\n",
      "2     1   1.0       1        1.0      0.0    0.0\n",
      "3     1   1.0       1        1.0      0.5    0.5\n",
      "4     1   1.0       1        1.0      1.0    1.0, 'age_group_60_69':    home  work  school  transport  leisure  other\n",
      "0     1   0.0       0        0.0      0.0    0.0\n",
      "1     1   0.5       1        0.5      0.0    0.0\n",
      "2     1   1.0       1        1.0      0.0    0.0\n",
      "3     1   1.0       1        1.0      0.5    0.5\n",
      "4     1   1.0       1        1.0      1.0    1.0, 'age_group_70_79':    home  work  school  transport  leisure  other\n",
      "0     1     0       0        0.0      0.0    0.0\n",
      "1     1     0       0        0.5      0.5    0.5\n",
      "2     1     1       1        1.0      1.0    1.0, 'age_group_80_plus':    home  work  school  transport  leisure  other\n",
      "0     1     0       0        0.0      0.0    0.0\n",
      "1     1     0       0        0.5      0.5    0.5\n",
      "2     1     1       1        1.0      1.0    1.0}\n"
     ]
    },
    {
     "data": {
      "text/html": [
       "<div>\n",
       "<style scoped>\n",
       "    .dataframe tbody tr th:only-of-type {\n",
       "        vertical-align: middle;\n",
       "    }\n",
       "\n",
       "    .dataframe tbody tr th {\n",
       "        vertical-align: top;\n",
       "    }\n",
       "\n",
       "    .dataframe thead th {\n",
       "        text-align: right;\n",
       "    }\n",
       "</style>\n",
       "<table border=\"1\" class=\"dataframe\">\n",
       "  <thead>\n",
       "    <tr style=\"text-align: right;\">\n",
       "      <th></th>\n",
       "      <th>home</th>\n",
       "      <th>work</th>\n",
       "      <th>school</th>\n",
       "      <th>transport</th>\n",
       "      <th>leisure</th>\n",
       "      <th>other</th>\n",
       "    </tr>\n",
       "  </thead>\n",
       "  <tbody>\n",
       "    <tr>\n",
       "      <th>0</th>\n",
       "      <td>1</td>\n",
       "      <td>0.0</td>\n",
       "      <td>0</td>\n",
       "      <td>0.0</td>\n",
       "      <td>0.0</td>\n",
       "      <td>0.0</td>\n",
       "    </tr>\n",
       "    <tr>\n",
       "      <th>1</th>\n",
       "      <td>1</td>\n",
       "      <td>0.5</td>\n",
       "      <td>1</td>\n",
       "      <td>0.5</td>\n",
       "      <td>0.0</td>\n",
       "      <td>0.0</td>\n",
       "    </tr>\n",
       "    <tr>\n",
       "      <th>2</th>\n",
       "      <td>1</td>\n",
       "      <td>1.0</td>\n",
       "      <td>1</td>\n",
       "      <td>1.0</td>\n",
       "      <td>0.0</td>\n",
       "      <td>0.0</td>\n",
       "    </tr>\n",
       "    <tr>\n",
       "      <th>3</th>\n",
       "      <td>1</td>\n",
       "      <td>1.0</td>\n",
       "      <td>1</td>\n",
       "      <td>1.0</td>\n",
       "      <td>0.5</td>\n",
       "      <td>0.5</td>\n",
       "    </tr>\n",
       "    <tr>\n",
       "      <th>4</th>\n",
       "      <td>1</td>\n",
       "      <td>1.0</td>\n",
       "      <td>1</td>\n",
       "      <td>1.0</td>\n",
       "      <td>1.0</td>\n",
       "      <td>1.0</td>\n",
       "    </tr>\n",
       "  </tbody>\n",
       "</table>\n",
       "</div>"
      ],
      "text/plain": [
       "   home  work  school  transport  leisure  other\n",
       "0     1   0.0       0        0.0      0.0    0.0\n",
       "1     1   0.5       1        0.5      0.0    0.0\n",
       "2     1   1.0       1        1.0      0.0    0.0\n",
       "3     1   1.0       1        1.0      0.5    0.5\n",
       "4     1   1.0       1        1.0      1.0    1.0"
      ]
     },
     "execution_count": 4,
     "metadata": {},
     "output_type": "execute_result"
    }
   ],
   "source": [
    "# Entries in the lockdown matrix ordered as follows: home, work, school, transport, leisure, otherplace\n",
    "activities = [\"home\", \"work\", \"school\", \"transport\", \"leisure\", \"other\"]\n",
    "\n",
    "# Dictionary based on age group and activity\n",
    "lockdown_patterns = {}\n",
    "for a in age_groups:\n",
    "    lockdown_patterns[a] = pd.read_excel(\"./Final_Data/ile-de-france_data.xlsx\",sheet_name=a)\n",
    "    \n",
    "print(lockdown_patterns)\n",
    "\n",
    "# TEST: Print lockdown pattern coefficient for age_group_1 for school in scenario 0\n",
    "lockdown_patterns[\"age_group_20_29\"][\"school\"][0]\n",
    "lockdown_patterns[\"age_group_20_29\"]\n"
   ]
  },
  {
   "cell_type": "markdown",
   "metadata": {},
   "source": [
    "# Economic & demographic data"
   ]
  },
  {
   "cell_type": "markdown",
   "metadata": {},
   "source": [
    "#### Side note on approximating the economic values\n",
    "\n",
    "The above is an approximation, based on the gross salary FTE data in file T404.xls. Based on the same data, we can do a better approximation for the economic values of groups 3 and 4. \n",
    "\n",
    "As an example, for group 4 we need an economic value for ages 25, 26, ..., 49, whereas file T404.xls provides a value for ages 26, 27, ..., 49. We assume the value 44617 in the file pertains to the age 37.5. We also assume value 24752 in the file pertains to age 22. Then we can do linear interpolation. To consider further...\n"
   ]
  },
  {
   "cell_type": "markdown",
   "metadata": {},
   "source": [
    "#### Note on the full time equivalent employment rate \n",
    "\n",
    "(Source: https://www.insee.fr/fr/metadonnees/definition/c1743)\n",
    "\n",
    "Le taux d'emploi en équivalent temps plein d'une classe d'individus est calculé en rapportant le nombre d'individus de la classe ayant un emploi converti en équivalent temps plein au nombre total d'individus dans la classe. Il peut être calculé sur l'ensemble de la population d'un pays, mais on se limite le plus souvent à la population en âge de travailler (généralement définie, en comparaison internationale, comme les personnes âgées de 15 à 64 ans), ou à une sous-catégorie de la population en âge de travailler (femmes de 25 à 29 ans par exemple).\n",
    "\n",
    "Browser translation: \"The full time equivalent employment rate is the ratio between the number of jobs converted into full-time and the total population. The number of people in full-time equivalent is obtained with the part-time rate recalculated in the Labour Force Survey: a person working half-time count for 0.5, or a person working 80% count for 0.8. This indicator is interesting because it shows how heterogeneous of working hours, because for the ILO, an hour during the reference week is enough to be considered as in employment.\""
   ]
  },
  {
   "cell_type": "code",
   "execution_count": 5,
   "metadata": {
    "scrolled": false
   },
   "outputs": [],
   "source": [
    "# value generated when working\n",
    "df_valwork = pd.read_excel(\"./Final_Data/ile-de-france_data.xlsx\",sheet_name=\"value_working\",index_col=0)\n",
    "#print(df_valwork)\n",
    "\n",
    "# fraction of population working\n",
    "df_fracwork = pd.read_excel(\"./Final_Data/ile-de-france_data.xlsx\",sheet_name=\"fraction_working\",index_col=0)\n",
    "#print(df_fracwork)\n",
    "\n",
    "# population\n",
    "df_population = pd.read_excel(\"./Final_Data/ile-de-france_data.xlsx\",sheet_name=\"population\",index_col=0)\n",
    "#print(df_population)\n",
    "\n",
    "# Parameter for number of days in a year. Do we want to account only for working days here?\n",
    "days_in_year = 365\n",
    "\n",
    "# Economic value from an individual from each age group being in non-lockdown, per region, over one day\n",
    "value_age_group_region_day = {}\n",
    "for r in regions:\n",
    "    for a in age_groups:\n",
    "        value_age_group_region_day[(r,a)] = df_fracwork[a][r] * df_valwork[a][r] / days_in_year"
   ]
  },
  {
   "cell_type": "markdown",
   "metadata": {},
   "source": [
    "### Calculate an economic value multiplier for each group \n",
    "We do this for each possible tuple of (region,age,lockdown-pattern)"
   ]
  },
  {
   "cell_type": "code",
   "execution_count": 6,
   "metadata": {},
   "outputs": [],
   "source": [
    "fraction_full_lockdown = 0.5   # the fraction of economic value the group generates in full lockdown\n",
    "\n",
    "economic_values = {}\n",
    "for r in regions:\n",
    "    for a in age_groups:\n",
    "        for i in range(0,len(lockdown_patterns[a].index)):\n",
    "            economic_values[(r,a,i)] = \\\n",
    "            (lockdown_patterns[a][\"work\"][i] * 1.0 + (1-lockdown_patterns[a][\"work\"][i]) * fraction_full_lockdown ) * \\\n",
    "            value_age_group_region_day[(r,a)]"
   ]
  },
  {
   "cell_type": "code",
   "execution_count": 7,
   "metadata": {},
   "outputs": [
    {
     "data": {
      "text/plain": [
       "{('Ile-de-France', 'age_group_0_9'): 0.0,\n",
       " ('Ile-de-France', 'age_group_10_19'): 0.0,\n",
       " ('Ile-de-France', 'age_group_20_29'): 38.961495895150684,\n",
       " ('Ile-de-France', 'age_group_30_39'): 85.28878053728769,\n",
       " ('Ile-de-France', 'age_group_40_49'): 109.06185238356166,\n",
       " ('Ile-de-France', 'age_group_50_59'): 90.93383013698627,\n",
       " ('Ile-de-France', 'age_group_60_69'): 22.733457534246575,\n",
       " ('Ile-de-France', 'age_group_70_79'): 0.0,\n",
       " ('Ile-de-France', 'age_group_80_plus'): 0.0}"
      ]
     },
     "execution_count": 7,
     "metadata": {},
     "output_type": "execute_result"
    }
   ],
   "source": [
    "value_age_group_region_day"
   ]
  },
  {
   "cell_type": "code",
   "execution_count": 8,
   "metadata": {
    "scrolled": true
   },
   "outputs": [
    {
     "data": {
      "text/plain": [
       "85.28878053728769"
      ]
     },
     "execution_count": 8,
     "metadata": {},
     "output_type": "execute_result"
    }
   ],
   "source": [
    "economic_values[(\"Ile-de-France\",\"age_group_30_39\",4)]"
   ]
  },
  {
   "cell_type": "markdown",
   "metadata": {},
   "source": [
    "# Hospital and ICU capacity data\n",
    "NOTE: Hospital number is completely fudged for now."
   ]
  },
  {
   "cell_type": "code",
   "execution_count": 9,
   "metadata": {},
   "outputs": [
    {
     "name": "stdout",
     "output_type": "stream",
     "text": [
      "                ICU  Hospital\n",
      "Ile-de-France  2500  20000000\n",
      "ICU Cap: 2500.00\n",
      "Hospital Cap: 20000000.00\n"
     ]
    }
   ],
   "source": [
    "df_hospital_ICU = pd.read_excel(\"./Final_Data/ile-de-france_data.xlsx\",sheet_name=\"ICU_hospital\",index_col=0)\n",
    "print(df_hospital_ICU)\n",
    "\n",
    "for r in regions:\n",
    "    print(\"ICU Cap: %.2f\" % df_hospital_ICU[\"ICU\"][r]) \n",
    "    print(\"Hospital Cap: %.2f\" % df_hospital_ICU[\"Hospital\"][r])"
   ]
  },
  {
   "cell_type": "markdown",
   "metadata": {},
   "source": [
    "# Social contact matrices"
   ]
  },
  {
   "cell_type": "code",
   "execution_count": 10,
   "metadata": {},
   "outputs": [],
   "source": [
    "# read the social contract matrices for each activity as dictionaries\n",
    "social_contact_matrices_df_weekdays = {}\n",
    "social_contact_matrices_np_weekdays = {}\n",
    "\n",
    "for a in activities:\n",
    "    social_contact_matrices_df_weekdays[a] = pd.read_excel(\"./Final_Data/social_contact_matrices_weekdays.xlsx\",sheet_name=a,index_col=0)\n",
    "    social_contact_matrices_np_weekdays[a] = social_contact_matrices_df_weekdays[a].to_numpy()"
   ]
  },
  {
   "cell_type": "code",
   "execution_count": 11,
   "metadata": {
    "scrolled": true
   },
   "outputs": [
    {
     "data": {
      "text/html": [
       "<div>\n",
       "<style scoped>\n",
       "    .dataframe tbody tr th:only-of-type {\n",
       "        vertical-align: middle;\n",
       "    }\n",
       "\n",
       "    .dataframe tbody tr th {\n",
       "        vertical-align: top;\n",
       "    }\n",
       "\n",
       "    .dataframe thead th {\n",
       "        text-align: right;\n",
       "    }\n",
       "</style>\n",
       "<table border=\"1\" class=\"dataframe\">\n",
       "  <thead>\n",
       "    <tr style=\"text-align: right;\">\n",
       "      <th></th>\n",
       "      <th>age_group_0_9</th>\n",
       "      <th>age_group_10_19</th>\n",
       "      <th>age_group_20_29</th>\n",
       "      <th>age_group_30_39</th>\n",
       "      <th>age_group_40_49</th>\n",
       "      <th>age_group_50_59</th>\n",
       "      <th>age_group_60_69</th>\n",
       "      <th>age_group_70_79</th>\n",
       "      <th>age_group_80_plus</th>\n",
       "    </tr>\n",
       "  </thead>\n",
       "  <tbody>\n",
       "    <tr>\n",
       "      <th>age_group_0_9</th>\n",
       "      <td>0.490477</td>\n",
       "      <td>0.882075</td>\n",
       "      <td>0.715680</td>\n",
       "      <td>0.697605</td>\n",
       "      <td>0.540703</td>\n",
       "      <td>0.612702</td>\n",
       "      <td>0.382643</td>\n",
       "      <td>0.182921</td>\n",
       "      <td>0.053024</td>\n",
       "    </tr>\n",
       "    <tr>\n",
       "      <th>age_group_10_19</th>\n",
       "      <td>0.908284</td>\n",
       "      <td>1.495565</td>\n",
       "      <td>1.310695</td>\n",
       "      <td>1.276592</td>\n",
       "      <td>1.173656</td>\n",
       "      <td>1.037656</td>\n",
       "      <td>0.883404</td>\n",
       "      <td>0.474788</td>\n",
       "      <td>0.051500</td>\n",
       "    </tr>\n",
       "    <tr>\n",
       "      <th>age_group_20_29</th>\n",
       "      <td>0.706566</td>\n",
       "      <td>1.256665</td>\n",
       "      <td>1.683328</td>\n",
       "      <td>1.673736</td>\n",
       "      <td>1.511905</td>\n",
       "      <td>1.455544</td>\n",
       "      <td>0.798214</td>\n",
       "      <td>0.443829</td>\n",
       "      <td>0.147763</td>\n",
       "    </tr>\n",
       "    <tr>\n",
       "      <th>age_group_30_39</th>\n",
       "      <td>0.677085</td>\n",
       "      <td>1.203290</td>\n",
       "      <td>1.645460</td>\n",
       "      <td>2.036827</td>\n",
       "      <td>1.691207</td>\n",
       "      <td>1.267670</td>\n",
       "      <td>0.680321</td>\n",
       "      <td>0.199877</td>\n",
       "      <td>0.139763</td>\n",
       "    </tr>\n",
       "    <tr>\n",
       "      <th>age_group_40_49</th>\n",
       "      <td>0.486867</td>\n",
       "      <td>1.026306</td>\n",
       "      <td>1.378933</td>\n",
       "      <td>1.568972</td>\n",
       "      <td>1.705889</td>\n",
       "      <td>1.561871</td>\n",
       "      <td>0.584494</td>\n",
       "      <td>0.305998</td>\n",
       "      <td>0.075504</td>\n",
       "    </tr>\n",
       "    <tr>\n",
       "      <th>age_group_50_59</th>\n",
       "      <td>0.582581</td>\n",
       "      <td>0.958176</td>\n",
       "      <td>1.401843</td>\n",
       "      <td>1.241880</td>\n",
       "      <td>1.649303</td>\n",
       "      <td>1.553066</td>\n",
       "      <td>0.720788</td>\n",
       "      <td>0.333600</td>\n",
       "      <td>0.199014</td>\n",
       "    </tr>\n",
       "    <tr>\n",
       "      <th>age_group_60_69</th>\n",
       "      <td>0.456000</td>\n",
       "      <td>1.022385</td>\n",
       "      <td>0.963511</td>\n",
       "      <td>0.835317</td>\n",
       "      <td>0.773569</td>\n",
       "      <td>0.903381</td>\n",
       "      <td>0.468875</td>\n",
       "      <td>0.196595</td>\n",
       "      <td>0.059351</td>\n",
       "    </tr>\n",
       "    <tr>\n",
       "      <th>age_group_70_79</th>\n",
       "      <td>0.303415</td>\n",
       "      <td>0.764815</td>\n",
       "      <td>0.745685</td>\n",
       "      <td>0.341588</td>\n",
       "      <td>0.563689</td>\n",
       "      <td>0.581957</td>\n",
       "      <td>0.273636</td>\n",
       "      <td>0.180595</td>\n",
       "      <td>0.056367</td>\n",
       "    </tr>\n",
       "    <tr>\n",
       "      <th>age_group_80_plus</th>\n",
       "      <td>0.138734</td>\n",
       "      <td>0.130857</td>\n",
       "      <td>0.391597</td>\n",
       "      <td>0.376762</td>\n",
       "      <td>0.219395</td>\n",
       "      <td>0.547628</td>\n",
       "      <td>0.130307</td>\n",
       "      <td>0.088913</td>\n",
       "      <td>0.016936</td>\n",
       "    </tr>\n",
       "  </tbody>\n",
       "</table>\n",
       "</div>"
      ],
      "text/plain": [
       "                   age_group_0_9  age_group_10_19  age_group_20_29  \\\n",
       "age_group_0_9           0.490477         0.882075         0.715680   \n",
       "age_group_10_19         0.908284         1.495565         1.310695   \n",
       "age_group_20_29         0.706566         1.256665         1.683328   \n",
       "age_group_30_39         0.677085         1.203290         1.645460   \n",
       "age_group_40_49         0.486867         1.026306         1.378933   \n",
       "age_group_50_59         0.582581         0.958176         1.401843   \n",
       "age_group_60_69         0.456000         1.022385         0.963511   \n",
       "age_group_70_79         0.303415         0.764815         0.745685   \n",
       "age_group_80_plus       0.138734         0.130857         0.391597   \n",
       "\n",
       "                   age_group_30_39  age_group_40_49  age_group_50_59  \\\n",
       "age_group_0_9             0.697605         0.540703         0.612702   \n",
       "age_group_10_19           1.276592         1.173656         1.037656   \n",
       "age_group_20_29           1.673736         1.511905         1.455544   \n",
       "age_group_30_39           2.036827         1.691207         1.267670   \n",
       "age_group_40_49           1.568972         1.705889         1.561871   \n",
       "age_group_50_59           1.241880         1.649303         1.553066   \n",
       "age_group_60_69           0.835317         0.773569         0.903381   \n",
       "age_group_70_79           0.341588         0.563689         0.581957   \n",
       "age_group_80_plus         0.376762         0.219395         0.547628   \n",
       "\n",
       "                   age_group_60_69  age_group_70_79  age_group_80_plus  \n",
       "age_group_0_9             0.382643         0.182921           0.053024  \n",
       "age_group_10_19           0.883404         0.474788           0.051500  \n",
       "age_group_20_29           0.798214         0.443829           0.147763  \n",
       "age_group_30_39           0.680321         0.199877           0.139763  \n",
       "age_group_40_49           0.584494         0.305998           0.075504  \n",
       "age_group_50_59           0.720788         0.333600           0.199014  \n",
       "age_group_60_69           0.468875         0.196595           0.059351  \n",
       "age_group_70_79           0.273636         0.180595           0.056367  \n",
       "age_group_80_plus         0.130307         0.088913           0.016936  "
      ]
     },
     "execution_count": 11,
     "metadata": {},
     "output_type": "execute_result"
    }
   ],
   "source": [
    "social_contact_matrices_df_weekdays[\"work\"]"
   ]
  },
  {
   "cell_type": "code",
   "execution_count": 12,
   "metadata": {},
   "outputs": [],
   "source": [
    "social_contact_total_weekdays = np.zeros((len(age_groups),len(age_groups)))\n",
    "\n",
    "for a in activities:\n",
    "    social_contact_total_weekdays += social_contact_matrices_np_weekdays[a]"
   ]
  },
  {
   "cell_type": "code",
   "execution_count": 13,
   "metadata": {
    "scrolled": false
   },
   "outputs": [
    {
     "name": "stdout",
     "output_type": "stream",
     "text": [
      "[[4.00738005 1.78160922 1.32190379 2.04365945 1.59720855 1.12392243\n",
      "  0.75160012 0.30579141 0.10150104]\n",
      " [1.83454467 9.60369497 2.30863404 2.18984362 2.77074639 1.5737782\n",
      "  1.15973554 0.66536658 0.14091241]\n",
      " [1.3050687  2.21346561 4.81498301 2.91526474 2.65580905 2.43783106\n",
      "  1.14857485 0.71017952 0.30149776]\n",
      " [1.98354657 2.06410191 2.86601428 3.67869557 2.89009648 2.1417177\n",
      "  1.45535955 0.69045727 0.30293318]\n",
      " [1.43818156 2.42288623 2.42223016 2.68120826 3.45435849 2.67568085\n",
      "  1.15143844 0.84448076 0.21174613]\n",
      " [1.06867075 1.45323305 2.34788953 2.0981471  2.82546417 3.03332866\n",
      "  1.56782149 0.72921375 0.47383701]\n",
      " [0.89569035 1.34219061 1.38642647 1.78692981 1.52391135 1.96498886\n",
      "  2.18671764 0.88250418 0.44176839]\n",
      " [0.50722189 1.0718101  1.19318373 1.1799827  1.55564457 1.27209623\n",
      "  1.22833948 1.30008814 0.59280074]\n",
      " [0.26557033 0.35804901 0.79902367 0.81662385 0.61527957 1.30385855\n",
      "  0.96991272 0.93507214 0.814026  ]]\n"
     ]
    }
   ],
   "source": [
    "print(social_contact_total_weekdays)"
   ]
  },
  {
   "cell_type": "markdown",
   "metadata": {},
   "source": [
    "### Function that calculates social contact matrix for every pair of triples"
   ]
  },
  {
   "cell_type": "code",
   "execution_count": 14,
   "metadata": {},
   "outputs": [],
   "source": [
    "def calculate_contact(activities, age_groups, social_contact_matrices_df, lockdown_patterns,  \\\n",
    "                       ageg_row, idx_lockdown_row, ageg_col, idx_lockdown_col, mixing):\n",
    "    # INPUTS:\n",
    "    # Two lockdown profiles. A lockdown profile is a vector that defines the degree of each activity compared to \n",
    "    # normal level.\n",
    "    # Mixing: 1: take the minimum of the coefficients for each activity. 0: multiply them.\n",
    "    \n",
    "    # OUTPUT:\n",
    "    # A value for the contact matrix coefficient for two lockdown profiles.\n",
    "    \n",
    "    contact = 0\n",
    "    for a in activities:\n",
    "       \n",
    "        if (mixing):\n",
    "            contact += min( lockdown_patterns[ageg_row][a][idx_lockdown_row],\\\n",
    "                            lockdown_patterns[ageg_col][a][idx_lockdown_col] )*social_contact_matrices_df[a][ageg_col][ageg_row]\n",
    "        else:\n",
    "            contact += lockdown_patterns[ageg_row][a][idx_lockdown_row] * \\\n",
    "            lockdown_patterns[ageg_col][a][idx_lockdown_col] *social_contact_matrices_df[a][ageg_col][ageg_row]\n",
    "    \n",
    "    return(contact)"
   ]
  },
  {
   "cell_type": "code",
   "execution_count": 15,
   "metadata": {},
   "outputs": [
    {
     "name": "stdout",
     "output_type": "stream",
     "text": [
      "0.304540942921224\n",
      "0.304540942921224\n",
      "1.114937477815619\n"
     ]
    }
   ],
   "source": [
    "print(calculate_contact(activities, age_groups, social_contact_matrices_df_weekdays, lockdown_patterns,  \\\n",
    "                  \"age_group_10_19\", 0, \"age_group_20_29\", 0, 1))\n",
    "\n",
    "print(calculate_contact(activities, age_groups, social_contact_matrices_df_weekdays, lockdown_patterns,  \\\n",
    "                  \"age_group_10_19\", 0, \"age_group_20_29\", 1, 1))\n",
    "\n",
    "print(calculate_contact(activities, age_groups, social_contact_matrices_df_weekdays, lockdown_patterns,  \\\n",
    "                  \"age_group_10_19\", 1, \"age_group_20_29\", 1, 1))"
   ]
  },
  {
   "cell_type": "code",
   "execution_count": 16,
   "metadata": {},
   "outputs": [],
   "source": [
    "def calculate_all_contacts(regions, activities, age_groups, social_contact_matrices_df, lockdown_patterns, mixing):\n",
    "        \n",
    "    all_contacts = {}\n",
    "    for r in regions:\n",
    "        for ar in age_groups:\n",
    "            for ac in age_groups:\n",
    "                for idx_lock_ar in range(0,len(lockdown_patterns[ar].index)):\n",
    "                    for idx_lock_ac in range(0,len(lockdown_patterns[ac].index)):\n",
    "                        all_contacts[(r,ar,idx_lock_ar,r,ac,idx_lock_ac)] = \\\n",
    "                        calculate_contact(activities, age_groups, social_contact_matrices_df, lockdown_patterns, \\\n",
    "                                          ar,idx_lock_ar,ac,idx_lock_ac,mixing)\n",
    "    \n",
    "    return(all_contacts)"
   ]
  },
  {
   "cell_type": "code",
   "execution_count": 17,
   "metadata": {},
   "outputs": [],
   "source": [
    "all_contacts_weekdays = calculate_all_contacts(regions, activities, age_groups, social_contact_matrices_df_weekdays, lockdown_patterns, 1)"
   ]
  },
  {
   "cell_type": "code",
   "execution_count": null,
   "metadata": {},
   "outputs": [],
   "source": []
  },
  {
   "cell_type": "code",
   "execution_count": 18,
   "metadata": {},
   "outputs": [],
   "source": [
    "# read the social contract matrices for each activity as dictionaries\n",
    "social_contact_matrices_df_weekends = {}\n",
    "social_contact_matrices_np_weekends = {}\n",
    "\n",
    "for a in activities:\n",
    "    social_contact_matrices_df_weekends[a] = pd.read_excel(\"./Final_Data/social_contact_matrices_weekends.xlsx\",sheet_name=a,index_col=0)\n",
    "    social_contact_matrices_np_weekends[a] = social_contact_matrices_df_weekends[a].to_numpy()"
   ]
  },
  {
   "cell_type": "code",
   "execution_count": 19,
   "metadata": {},
   "outputs": [],
   "source": [
    "social_contact_total_weekends = np.zeros((len(age_groups),len(age_groups)))\n",
    "\n",
    "for a in activities:\n",
    "    social_contact_total_weekends += social_contact_matrices_np_weekends[a]"
   ]
  },
  {
   "cell_type": "code",
   "execution_count": 20,
   "metadata": {},
   "outputs": [],
   "source": [
    "all_contacts_weekends = calculate_all_contacts(regions, activities, age_groups, social_contact_matrices_df_weekends, lockdown_patterns, 1)\n"
   ]
  },
  {
   "cell_type": "code",
   "execution_count": null,
   "metadata": {},
   "outputs": [],
   "source": []
  },
  {
   "cell_type": "code",
   "execution_count": 21,
   "metadata": {},
   "outputs": [],
   "source": [
    "# read the social contract matrices for each activity as dictionaries\n",
    "social_contact_matrices_df_new = {}\n",
    "social_contact_matrices_np_new = {}\n",
    "\n",
    "for a in activities:\n",
    "    social_contact_matrices_df_new[a] = pd.read_excel(\"./Final_Data/social_contact_matrices_new.xlsx\",sheet_name=a,index_col=0)\n",
    "    social_contact_matrices_np_new[a] = social_contact_matrices_df_new[a].to_numpy()\n",
    "    \n",
    "social_contact_total_new = np.zeros((len(age_groups),len(age_groups)))\n",
    "\n",
    "for a in activities:\n",
    "    social_contact_total_new += social_contact_matrices_np_new[a]\n",
    "    \n",
    "all_contacts_new = calculate_all_contacts(regions, activities, age_groups, social_contact_matrices_df_new, lockdown_patterns, 1)\n"
   ]
  },
  {
   "cell_type": "code",
   "execution_count": 22,
   "metadata": {},
   "outputs": [],
   "source": [
    "# read the social contract matrices for each activity as dictionaries\n",
    "social_contact_matrices_df_old = {}\n",
    "social_contact_matrices_np_old = {}\n",
    "\n",
    "for a in activities:\n",
    "    social_contact_matrices_df_old[a] = pd.read_excel(\"./Final_Data/social_contact_matrices.xlsx\",sheet_name=a,index_col=0)\n",
    "    social_contact_matrices_np_old[a] = social_contact_matrices_df_old[a].to_numpy()\n",
    "    \n",
    "social_contact_total_old = np.zeros((len(age_groups),len(age_groups)))\n",
    "\n",
    "for a in activities:\n",
    "    social_contact_total_old += social_contact_matrices_np_old[a]\n",
    "    \n",
    "all_contacts_old = calculate_all_contacts(regions, activities, age_groups, social_contact_matrices_df_old, lockdown_patterns, 1)\n"
   ]
  },
  {
   "cell_type": "code",
   "execution_count": 23,
   "metadata": {},
   "outputs": [],
   "source": [
    "# read the social contract matrices for each activity as dictionaries\n",
    "social_contact_matrices_df_spc = {}\n",
    "social_contact_matrices_np_spc = {}\n",
    "\n",
    "for a in activities:\n",
    "    social_contact_matrices_df_spc[a] = pd.read_excel(\"./Final_Data/social_contact_matrices_SPC.xlsx\",sheet_name=a,index_col=0)\n",
    "    social_contact_matrices_np_spc[a] = social_contact_matrices_df_spc[a].to_numpy()\n",
    "    \n",
    "social_contact_total_spc = np.zeros((len(age_groups),len(age_groups)))\n",
    "\n",
    "for a in activities:\n",
    "    social_contact_total_spc += social_contact_matrices_np_spc[a]\n",
    "    \n",
    "all_contacts_spc = calculate_all_contacts(regions, activities, age_groups, social_contact_matrices_df_spc, lockdown_patterns, 1)\n"
   ]
  },
  {
   "cell_type": "code",
   "execution_count": null,
   "metadata": {},
   "outputs": [],
   "source": []
  },
  {
   "cell_type": "markdown",
   "metadata": {},
   "source": [
    "# SIR Parameters"
   ]
  },
  {
   "cell_type": "code",
   "execution_count": 24,
   "metadata": {},
   "outputs": [
    {
     "name": "stdout",
     "output_type": "stream",
     "text": [
      "                   R_0    mu  sigma   p_ss  p_ICU_cond_ss     p_ICU       p_H  \\\n",
      "age_group_0_9      2.9  0.25   0.25  0.002          0.222  0.000444  0.001556   \n",
      "age_group_10_19    2.9  0.25   0.25  0.002          0.222  0.000444  0.001556   \n",
      "age_group_20_29    2.9  0.25   0.25  0.006          0.115  0.000690  0.005310   \n",
      "age_group_30_39    2.9  0.25   0.25  0.013          0.159  0.002067  0.010933   \n",
      "age_group_40_49    2.9  0.25   0.25  0.017          0.222  0.003774  0.013226   \n",
      "age_group_50_59    2.9  0.25   0.25  0.035          0.276  0.009660  0.025340   \n",
      "age_group_60_69    2.9  0.25   0.25  0.071          0.308  0.021868  0.049132   \n",
      "age_group_70_79    2.9  0.25   0.25  0.113          0.249  0.028137  0.084863   \n",
      "age_group_80_plus  2.9  0.25   0.25  0.320          0.056  0.017920  0.302080   \n",
      "\n",
      "                   p_death_cond_ss  p_recov_cond_ss  lambda_H  lambda_HR  \\\n",
      "age_group_0_9                0.006            0.994  0.076278   0.075820   \n",
      "age_group_10_19              0.006            0.994  0.076278   0.075820   \n",
      "age_group_20_29              0.011            0.989  0.076278   0.075439   \n",
      "age_group_30_39              0.019            0.981  0.076278   0.074828   \n",
      "age_group_40_49              0.033            0.967  0.076278   0.073760   \n",
      "age_group_50_59              0.065            0.935  0.076278   0.071320   \n",
      "age_group_60_69              0.126            0.874  0.076278   0.066667   \n",
      "age_group_70_79              0.210            0.790  0.076278   0.060259   \n",
      "age_group_80_plus            0.316            0.684  0.076278   0.052174   \n",
      "\n",
      "                   lambda_HD  lambda_ICU  lambda_ICUR  lambda_ICUD  \n",
      "age_group_0_9       0.000458    0.052438     0.052124     0.000315  \n",
      "age_group_10_19     0.000458    0.052438     0.052124     0.000315  \n",
      "age_group_20_29     0.000839    0.052438     0.051862     0.000577  \n",
      "age_group_30_39     0.001449    0.052438     0.051442     0.000996  \n",
      "age_group_40_49     0.002517    0.052438     0.050708     0.001730  \n",
      "age_group_50_59     0.004958    0.052438     0.049030     0.003408  \n",
      "age_group_60_69     0.009611    0.052438     0.045831     0.006607  \n",
      "age_group_70_79     0.016018    0.052438     0.041426     0.011012  \n",
      "age_group_80_plus   0.024104    0.052438     0.035868     0.016571  \n"
     ]
    }
   ],
   "source": [
    "R0 = 2.9\n",
    "df_SEIR = pd.read_excel(\"./Final_Data/ile-de-france_data.xlsx\",sheet_name=\"SEIR_params\",index_col=0)\n",
    "\n",
    "print(df_SEIR)"
   ]
  },
  {
   "cell_type": "markdown",
   "metadata": {},
   "source": [
    "### Generate beta"
   ]
  },
  {
   "cell_type": "code",
   "execution_count": 25,
   "metadata": {},
   "outputs": [],
   "source": [
    "def get_beta(df_SEIR, R0, contact_matrix) :\n",
    "    \n",
    "    num_groups = len(contact_matrix)\n",
    "    sigma = df_SEIR[\"sigma\"].to_numpy()\n",
    "    mu = df_SEIR[\"mu\"].to_numpy()  \n",
    "    \n",
    "    # compute F/beta and V\n",
    "    F_over_beta = np.block([ [np.zeros((num_groups,num_groups)),contact_matrix],\\\n",
    "                            [np.zeros((num_groups,num_groups)), np.zeros((num_groups,num_groups))]])       \n",
    "    V = np.block([[-np.diagflat(sigma),np.zeros((num_groups,num_groups))],\\\n",
    "                  [np.diagflat(sigma), -np.diagflat(mu)]])\n",
    "\n",
    "    # determine eigenvalues of  -F/beta * V^(-1)\n",
    "    eigval, eigvec = np.linalg.eig(np.matmul(-F_over_beta,np.linalg.inv(V)))\n",
    "\n",
    "    # calculate beta\n",
    "    beta = R0 / np.max(np.abs(eigval))\n",
    "    return beta"
   ]
  },
  {
   "cell_type": "code",
   "execution_count": 26,
   "metadata": {
    "scrolled": true
   },
   "outputs": [
    {
     "name": "stdout",
     "output_type": "stream",
     "text": [
      "0.04240988982281467\n"
     ]
    }
   ],
   "source": [
    "beta_weekdays = get_beta(df_SEIR, 2.9, social_contact_total_weekdays)\n",
    "print(beta_weekdays)"
   ]
  },
  {
   "cell_type": "code",
   "execution_count": 27,
   "metadata": {},
   "outputs": [
    {
     "name": "stdout",
     "output_type": "stream",
     "text": [
      "0.06115986360123594\n"
     ]
    }
   ],
   "source": [
    "beta_weekends = get_beta(df_SEIR, 2.9, social_contact_total_weekends)\n",
    "print(beta_weekends)"
   ]
  },
  {
   "cell_type": "code",
   "execution_count": 28,
   "metadata": {},
   "outputs": [
    {
     "name": "stdout",
     "output_type": "stream",
     "text": [
      "0.068932660782469\n"
     ]
    }
   ],
   "source": [
    "beta_new = get_beta(df_SEIR, 2.9, social_contact_total_new)\n",
    "print(beta_new)"
   ]
  },
  {
   "cell_type": "code",
   "execution_count": 29,
   "metadata": {},
   "outputs": [
    {
     "name": "stdout",
     "output_type": "stream",
     "text": [
      "0.060606045273519614\n"
     ]
    }
   ],
   "source": [
    "beta_old = get_beta(df_SEIR, 2.9, social_contact_total_old)\n",
    "print(beta_old)"
   ]
  },
  {
   "cell_type": "code",
   "execution_count": 30,
   "metadata": {},
   "outputs": [
    {
     "name": "stdout",
     "output_type": "stream",
     "text": [
      "0.03923794546657925\n"
     ]
    }
   ],
   "source": [
    "beta_spc = get_beta(df_SEIR, 2.9, social_contact_total_spc)\n",
    "print(beta_spc)\n",
    "\n",
    "beta = beta_spc"
   ]
  },
  {
   "cell_type": "markdown",
   "metadata": {},
   "source": [
    "#### Calculate Relative Risk of Infection / Attack Rate per age-group\n",
    "Done for purposes of comparing with Salje et al. Reference age group is 30-39. "
   ]
  },
  {
   "cell_type": "code",
   "execution_count": null,
   "metadata": {},
   "outputs": [],
   "source": []
  },
  {
   "cell_type": "markdown",
   "metadata": {},
   "source": [
    "# Death Cost"
   ]
  },
  {
   "cell_type": "code",
   "execution_count": 31,
   "metadata": {},
   "outputs": [],
   "source": [
    "df_death = pd.read_excel(\"./Final_Data/ile-de-france_data.xlsx\",sheet_name=\"death_cost\",index_col=0)"
   ]
  },
  {
   "cell_type": "markdown",
   "metadata": {},
   "source": [
    "# Testing Capabilities"
   ]
  },
  {
   "cell_type": "code",
   "execution_count": 32,
   "metadata": {},
   "outputs": [],
   "source": [
    "testing = {\n",
    "    \"Ile-de-France\":\n",
    "        {\n",
    "            'antibodies':3000,\n",
    "            'molecular':3000,\n",
    "        }\n",
    "}"
   ]
  },
  {
   "cell_type": "markdown",
   "metadata": {},
   "source": [
    "# Export Data"
   ]
  },
  {
   "cell_type": "code",
   "execution_count": 35,
   "metadata": {},
   "outputs": [],
   "source": [
    "data_dict = {\n",
    "    \"regions\":regions,\n",
    "    \"age_groups\":age_groups,\n",
    "    \"capacity\":df_hospital_ICU,\n",
    "    \"all_contacts_weekdays\":all_contacts_weekdays,\n",
    "    \"all_contacts_weekends\":all_contacts_weekends,\n",
    "    \"all_contacts_new\":all_contacts_new,\n",
    "    \"all_contacts_old\":all_contacts_old,\n",
    "    \"all_contacts_spc\":all_contacts_spc,\n",
    "    \"SEIR_parameters\":df_SEIR,\n",
    "    \"beta\":beta,\n",
    "    \"population\":df_population,\n",
    "    'death_cost':df_death['death_cost'],\n",
    "    \"testing\":testing,\n",
    "    \"hospital_icu\":df_hospital_ICU,\n",
    "    \"social_contact_matrices_weekdays\":social_contact_matrices_df_weekdays,\n",
    "    \"social_contact_matrices_weekends\":social_contact_matrices_df_weekends,\n",
    "    \"social_contact_matrices_new\":social_contact_matrices_df_new,\n",
    "    \"social_contact_matrices_old\":social_contact_matrices_df_old,\n",
    "    \"social_contact_matrices_spc\":social_contact_matrices_df_spc,\n",
    "    \"activities\":activities,\n",
    "    \"economic_value\":value_age_group_region_day,\n",
    "    \"lockdown_fraction\":fraction_full_lockdown,\n",
    "    \"lockdown_patterns\":lockdown_patterns,\n",
    "}"
   ]
  },
  {
   "cell_type": "code",
   "execution_count": 36,
   "metadata": {},
   "outputs": [],
   "source": [
    "import pickle\n",
    "pickle.dump( data_dict, open( \"data_dict.p\", \"wb\" ) )"
   ]
  },
  {
   "cell_type": "code",
   "execution_count": 37,
   "metadata": {},
   "outputs": [
    {
     "data": {
      "text/plain": [
       "age_group_0_9        1594856\n",
       "age_group_10_19      1546109\n",
       "age_group_20_29      1651917\n",
       "age_group_30_39      1757848\n",
       "age_group_40_49      1671811\n",
       "age_group_50_59      1538636\n",
       "age_group_60_69      1177841\n",
       "age_group_70_79       792962\n",
       "age_group_80_plus     546230\n",
       "TOTAL                9761177\n",
       "dtype: int64"
      ]
     },
     "execution_count": 37,
     "metadata": {},
     "output_type": "execute_result"
    }
   ],
   "source": [
    "df_population.sum()"
   ]
  },
  {
   "cell_type": "code",
   "execution_count": 38,
   "metadata": {},
   "outputs": [
    {
     "data": {
      "text/html": [
       "<div>\n",
       "<style scoped>\n",
       "    .dataframe tbody tr th:only-of-type {\n",
       "        vertical-align: middle;\n",
       "    }\n",
       "\n",
       "    .dataframe tbody tr th {\n",
       "        vertical-align: top;\n",
       "    }\n",
       "\n",
       "    .dataframe thead th {\n",
       "        text-align: right;\n",
       "    }\n",
       "</style>\n",
       "<table border=\"1\" class=\"dataframe\">\n",
       "  <thead>\n",
       "    <tr style=\"text-align: right;\">\n",
       "      <th></th>\n",
       "      <th>R_0</th>\n",
       "      <th>mu</th>\n",
       "      <th>sigma</th>\n",
       "      <th>p_ss</th>\n",
       "      <th>p_ICU_cond_ss</th>\n",
       "      <th>p_ICU</th>\n",
       "      <th>p_H</th>\n",
       "      <th>p_death_cond_ss</th>\n",
       "      <th>p_recov_cond_ss</th>\n",
       "      <th>lambda_H</th>\n",
       "      <th>lambda_HR</th>\n",
       "      <th>lambda_HD</th>\n",
       "      <th>lambda_ICU</th>\n",
       "      <th>lambda_ICUR</th>\n",
       "      <th>lambda_ICUD</th>\n",
       "    </tr>\n",
       "  </thead>\n",
       "  <tbody>\n",
       "    <tr>\n",
       "      <th>age_group_0_9</th>\n",
       "      <td>2.9</td>\n",
       "      <td>0.25</td>\n",
       "      <td>0.25</td>\n",
       "      <td>0.002</td>\n",
       "      <td>0.222</td>\n",
       "      <td>0.000444</td>\n",
       "      <td>0.001556</td>\n",
       "      <td>0.006</td>\n",
       "      <td>0.994</td>\n",
       "      <td>0.076278</td>\n",
       "      <td>0.075820</td>\n",
       "      <td>0.000458</td>\n",
       "      <td>0.052438</td>\n",
       "      <td>0.052124</td>\n",
       "      <td>0.000315</td>\n",
       "    </tr>\n",
       "    <tr>\n",
       "      <th>age_group_10_19</th>\n",
       "      <td>2.9</td>\n",
       "      <td>0.25</td>\n",
       "      <td>0.25</td>\n",
       "      <td>0.002</td>\n",
       "      <td>0.222</td>\n",
       "      <td>0.000444</td>\n",
       "      <td>0.001556</td>\n",
       "      <td>0.006</td>\n",
       "      <td>0.994</td>\n",
       "      <td>0.076278</td>\n",
       "      <td>0.075820</td>\n",
       "      <td>0.000458</td>\n",
       "      <td>0.052438</td>\n",
       "      <td>0.052124</td>\n",
       "      <td>0.000315</td>\n",
       "    </tr>\n",
       "    <tr>\n",
       "      <th>age_group_20_29</th>\n",
       "      <td>2.9</td>\n",
       "      <td>0.25</td>\n",
       "      <td>0.25</td>\n",
       "      <td>0.006</td>\n",
       "      <td>0.115</td>\n",
       "      <td>0.000690</td>\n",
       "      <td>0.005310</td>\n",
       "      <td>0.011</td>\n",
       "      <td>0.989</td>\n",
       "      <td>0.076278</td>\n",
       "      <td>0.075439</td>\n",
       "      <td>0.000839</td>\n",
       "      <td>0.052438</td>\n",
       "      <td>0.051862</td>\n",
       "      <td>0.000577</td>\n",
       "    </tr>\n",
       "    <tr>\n",
       "      <th>age_group_30_39</th>\n",
       "      <td>2.9</td>\n",
       "      <td>0.25</td>\n",
       "      <td>0.25</td>\n",
       "      <td>0.013</td>\n",
       "      <td>0.159</td>\n",
       "      <td>0.002067</td>\n",
       "      <td>0.010933</td>\n",
       "      <td>0.019</td>\n",
       "      <td>0.981</td>\n",
       "      <td>0.076278</td>\n",
       "      <td>0.074828</td>\n",
       "      <td>0.001449</td>\n",
       "      <td>0.052438</td>\n",
       "      <td>0.051442</td>\n",
       "      <td>0.000996</td>\n",
       "    </tr>\n",
       "    <tr>\n",
       "      <th>age_group_40_49</th>\n",
       "      <td>2.9</td>\n",
       "      <td>0.25</td>\n",
       "      <td>0.25</td>\n",
       "      <td>0.017</td>\n",
       "      <td>0.222</td>\n",
       "      <td>0.003774</td>\n",
       "      <td>0.013226</td>\n",
       "      <td>0.033</td>\n",
       "      <td>0.967</td>\n",
       "      <td>0.076278</td>\n",
       "      <td>0.073760</td>\n",
       "      <td>0.002517</td>\n",
       "      <td>0.052438</td>\n",
       "      <td>0.050708</td>\n",
       "      <td>0.001730</td>\n",
       "    </tr>\n",
       "    <tr>\n",
       "      <th>age_group_50_59</th>\n",
       "      <td>2.9</td>\n",
       "      <td>0.25</td>\n",
       "      <td>0.25</td>\n",
       "      <td>0.035</td>\n",
       "      <td>0.276</td>\n",
       "      <td>0.009660</td>\n",
       "      <td>0.025340</td>\n",
       "      <td>0.065</td>\n",
       "      <td>0.935</td>\n",
       "      <td>0.076278</td>\n",
       "      <td>0.071320</td>\n",
       "      <td>0.004958</td>\n",
       "      <td>0.052438</td>\n",
       "      <td>0.049030</td>\n",
       "      <td>0.003408</td>\n",
       "    </tr>\n",
       "    <tr>\n",
       "      <th>age_group_60_69</th>\n",
       "      <td>2.9</td>\n",
       "      <td>0.25</td>\n",
       "      <td>0.25</td>\n",
       "      <td>0.071</td>\n",
       "      <td>0.308</td>\n",
       "      <td>0.021868</td>\n",
       "      <td>0.049132</td>\n",
       "      <td>0.126</td>\n",
       "      <td>0.874</td>\n",
       "      <td>0.076278</td>\n",
       "      <td>0.066667</td>\n",
       "      <td>0.009611</td>\n",
       "      <td>0.052438</td>\n",
       "      <td>0.045831</td>\n",
       "      <td>0.006607</td>\n",
       "    </tr>\n",
       "    <tr>\n",
       "      <th>age_group_70_79</th>\n",
       "      <td>2.9</td>\n",
       "      <td>0.25</td>\n",
       "      <td>0.25</td>\n",
       "      <td>0.113</td>\n",
       "      <td>0.249</td>\n",
       "      <td>0.028137</td>\n",
       "      <td>0.084863</td>\n",
       "      <td>0.210</td>\n",
       "      <td>0.790</td>\n",
       "      <td>0.076278</td>\n",
       "      <td>0.060259</td>\n",
       "      <td>0.016018</td>\n",
       "      <td>0.052438</td>\n",
       "      <td>0.041426</td>\n",
       "      <td>0.011012</td>\n",
       "    </tr>\n",
       "    <tr>\n",
       "      <th>age_group_80_plus</th>\n",
       "      <td>2.9</td>\n",
       "      <td>0.25</td>\n",
       "      <td>0.25</td>\n",
       "      <td>0.320</td>\n",
       "      <td>0.056</td>\n",
       "      <td>0.017920</td>\n",
       "      <td>0.302080</td>\n",
       "      <td>0.316</td>\n",
       "      <td>0.684</td>\n",
       "      <td>0.076278</td>\n",
       "      <td>0.052174</td>\n",
       "      <td>0.024104</td>\n",
       "      <td>0.052438</td>\n",
       "      <td>0.035868</td>\n",
       "      <td>0.016571</td>\n",
       "    </tr>\n",
       "  </tbody>\n",
       "</table>\n",
       "</div>"
      ],
      "text/plain": [
       "                   R_0    mu  sigma   p_ss  p_ICU_cond_ss     p_ICU       p_H  \\\n",
       "age_group_0_9      2.9  0.25   0.25  0.002          0.222  0.000444  0.001556   \n",
       "age_group_10_19    2.9  0.25   0.25  0.002          0.222  0.000444  0.001556   \n",
       "age_group_20_29    2.9  0.25   0.25  0.006          0.115  0.000690  0.005310   \n",
       "age_group_30_39    2.9  0.25   0.25  0.013          0.159  0.002067  0.010933   \n",
       "age_group_40_49    2.9  0.25   0.25  0.017          0.222  0.003774  0.013226   \n",
       "age_group_50_59    2.9  0.25   0.25  0.035          0.276  0.009660  0.025340   \n",
       "age_group_60_69    2.9  0.25   0.25  0.071          0.308  0.021868  0.049132   \n",
       "age_group_70_79    2.9  0.25   0.25  0.113          0.249  0.028137  0.084863   \n",
       "age_group_80_plus  2.9  0.25   0.25  0.320          0.056  0.017920  0.302080   \n",
       "\n",
       "                   p_death_cond_ss  p_recov_cond_ss  lambda_H  lambda_HR  \\\n",
       "age_group_0_9                0.006            0.994  0.076278   0.075820   \n",
       "age_group_10_19              0.006            0.994  0.076278   0.075820   \n",
       "age_group_20_29              0.011            0.989  0.076278   0.075439   \n",
       "age_group_30_39              0.019            0.981  0.076278   0.074828   \n",
       "age_group_40_49              0.033            0.967  0.076278   0.073760   \n",
       "age_group_50_59              0.065            0.935  0.076278   0.071320   \n",
       "age_group_60_69              0.126            0.874  0.076278   0.066667   \n",
       "age_group_70_79              0.210            0.790  0.076278   0.060259   \n",
       "age_group_80_plus            0.316            0.684  0.076278   0.052174   \n",
       "\n",
       "                   lambda_HD  lambda_ICU  lambda_ICUR  lambda_ICUD  \n",
       "age_group_0_9       0.000458    0.052438     0.052124     0.000315  \n",
       "age_group_10_19     0.000458    0.052438     0.052124     0.000315  \n",
       "age_group_20_29     0.000839    0.052438     0.051862     0.000577  \n",
       "age_group_30_39     0.001449    0.052438     0.051442     0.000996  \n",
       "age_group_40_49     0.002517    0.052438     0.050708     0.001730  \n",
       "age_group_50_59     0.004958    0.052438     0.049030     0.003408  \n",
       "age_group_60_69     0.009611    0.052438     0.045831     0.006607  \n",
       "age_group_70_79     0.016018    0.052438     0.041426     0.011012  \n",
       "age_group_80_plus   0.024104    0.052438     0.035868     0.016571  "
      ]
     },
     "execution_count": 38,
     "metadata": {},
     "output_type": "execute_result"
    }
   ],
   "source": [
    "df_SEIR"
   ]
  },
  {
   "cell_type": "code",
   "execution_count": null,
   "metadata": {},
   "outputs": [],
   "source": []
  }
 ],
 "metadata": {
  "kernelspec": {
   "display_name": "Python 3",
   "language": "python",
   "name": "python3"
  },
  "language_info": {
   "codemirror_mode": {
    "name": "ipython",
    "version": 3
   },
   "file_extension": ".py",
   "mimetype": "text/x-python",
   "name": "python",
   "nbconvert_exporter": "python",
   "pygments_lexer": "ipython3",
   "version": "3.7.6"
  }
 },
 "nbformat": 4,
 "nbformat_minor": 2
}
