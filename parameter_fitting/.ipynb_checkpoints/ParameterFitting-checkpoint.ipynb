{
 "cells": [
  {
   "cell_type": "code",
   "execution_count": 1,
   "metadata": {},
   "outputs": [],
   "source": [
    "import pandas as pd\n",
    "from datetime import datetime, timedelta\n",
    "import numpy"
   ]
  },
  {
   "cell_type": "code",
   "execution_count": 2,
   "metadata": {},
   "outputs": [],
   "source": [
    "age_groups = ['age_group_0_9', 'age_group_10_19', 'age_group_20_29','age_group_30_39', 'age_group_40_49', 'age_group_50_59', 'age_group_60_69', 'age_group_70_79', 'age_group_80_plus']\n"
   ]
  },
  {
   "cell_type": "code",
   "execution_count": 3,
   "metadata": {},
   "outputs": [
    {
     "data": {
      "text/html": [
       "<div>\n",
       "<style scoped>\n",
       "    .dataframe tbody tr th:only-of-type {\n",
       "        vertical-align: middle;\n",
       "    }\n",
       "\n",
       "    .dataframe tbody tr th {\n",
       "        vertical-align: top;\n",
       "    }\n",
       "\n",
       "    .dataframe thead th {\n",
       "        text-align: right;\n",
       "    }\n",
       "</style>\n",
       "<table border=\"1\" class=\"dataframe\">\n",
       "  <thead>\n",
       "    <tr style=\"text-align: right;\">\n",
       "      <th></th>\n",
       "      <th>reg</th>\n",
       "      <th>cl_age90</th>\n",
       "      <th>jour</th>\n",
       "      <th>hosp</th>\n",
       "      <th>rea</th>\n",
       "      <th>rad</th>\n",
       "      <th>dc</th>\n",
       "    </tr>\n",
       "  </thead>\n",
       "  <tbody>\n",
       "    <tr>\n",
       "      <th>0</th>\n",
       "      <td>1</td>\n",
       "      <td>0</td>\n",
       "      <td>2020-03-18</td>\n",
       "      <td>0</td>\n",
       "      <td>0</td>\n",
       "      <td>0</td>\n",
       "      <td>0</td>\n",
       "    </tr>\n",
       "    <tr>\n",
       "      <th>1</th>\n",
       "      <td>1</td>\n",
       "      <td>9</td>\n",
       "      <td>2020-03-18</td>\n",
       "      <td>0</td>\n",
       "      <td>0</td>\n",
       "      <td>0</td>\n",
       "      <td>0</td>\n",
       "    </tr>\n",
       "    <tr>\n",
       "      <th>2</th>\n",
       "      <td>1</td>\n",
       "      <td>19</td>\n",
       "      <td>2020-03-18</td>\n",
       "      <td>0</td>\n",
       "      <td>0</td>\n",
       "      <td>0</td>\n",
       "      <td>0</td>\n",
       "    </tr>\n",
       "    <tr>\n",
       "      <th>3</th>\n",
       "      <td>1</td>\n",
       "      <td>29</td>\n",
       "      <td>2020-03-18</td>\n",
       "      <td>0</td>\n",
       "      <td>0</td>\n",
       "      <td>0</td>\n",
       "      <td>0</td>\n",
       "    </tr>\n",
       "    <tr>\n",
       "      <th>4</th>\n",
       "      <td>1</td>\n",
       "      <td>39</td>\n",
       "      <td>2020-03-18</td>\n",
       "      <td>0</td>\n",
       "      <td>0</td>\n",
       "      <td>0</td>\n",
       "      <td>0</td>\n",
       "    </tr>\n",
       "  </tbody>\n",
       "</table>\n",
       "</div>"
      ],
      "text/plain": [
       "   reg  cl_age90        jour  hosp  rea  rad  dc\n",
       "0    1         0  2020-03-18     0    0    0   0\n",
       "1    1         9  2020-03-18     0    0    0   0\n",
       "2    1        19  2020-03-18     0    0    0   0\n",
       "3    1        29  2020-03-18     0    0    0   0\n",
       "4    1        39  2020-03-18     0    0    0   0"
      ]
     },
     "execution_count": 3,
     "metadata": {},
     "output_type": "execute_result"
    }
   ],
   "source": [
    "data = pd.read_csv(\"donnees-hospitalieres-classe-age-covid19-2020-06-18-19h00.csv\", sep=\";\")\n",
    "data.head()"
   ]
  },
  {
   "cell_type": "code",
   "execution_count": 4,
   "metadata": {},
   "outputs": [
    {
     "name": "stderr",
     "output_type": "stream",
     "text": [
      "/Users/sergioacamelogomez/opt/anaconda3/lib/python3.7/site-packages/ipykernel_launcher.py:1: UserWarning: Boolean Series key will be reindexed to match DataFrame index.\n",
      "  \"\"\"Entry point for launching an IPython kernel.\n",
      "/Users/sergioacamelogomez/opt/anaconda3/lib/python3.7/site-packages/ipykernel_launcher.py:2: UserWarning: Boolean Series key will be reindexed to match DataFrame index.\n",
      "  \n"
     ]
    }
   ],
   "source": [
    "days = data[data['reg']==11][data['cl_age90']==0].jour.values\n",
    "hosp_real = data[data['reg']==11][data['cl_age90']==0].hosp.values"
   ]
  },
  {
   "cell_type": "code",
   "execution_count": 5,
   "metadata": {},
   "outputs": [],
   "source": [
    "import yaml\n",
    "from inspect import getsourcefile\n",
    "import os.path\n",
    "import sys\n",
    "import matplotlib\n",
    "matplotlib.use('Agg')\n",
    "import matplotlib.pyplot as plt\n",
    "import argparse\n",
    "current_path = os.path.abspath(getsourcefile(lambda:0))\n",
    "current_dir = os.path.dirname(current_path)\n",
    "parentdir = os.path.dirname(current_dir)\n",
    "sys.path.insert(0,parentdir) \n",
    "sys.path.insert(0, parentdir+\"/heuristics\")\n",
    "sys.path.insert(0, parentdir+\"/heuristics/LP-Models\")\n",
    "sys.path.insert(0, parentdir+\"/fast_gradient\")\n",
    "\n",
    "\n",
    "from group import SEIR_group, DynamicalModel\n",
    "from heuristics import *\n",
    "from fast_group import FastDynamicalModel\n",
    "from aux import *\n"
   ]
  },
  {
   "cell_type": "code",
   "execution_count": 6,
   "metadata": {},
   "outputs": [],
   "source": [
    "region = \"Ile-de-France\""
   ]
  },
  {
   "cell_type": "code",
   "execution_count": 7,
   "metadata": {},
   "outputs": [],
   "source": [
    "# Read group parameters\n",
    "with open(\"../parameters/\"+region+\".yaml\") as file:\n",
    "    # The FullLoader parameter handles the conversion from YAML\n",
    "    # scalar values to Python the dictionary format\n",
    "    universe_params = yaml.load(file, Loader=yaml.FullLoader)\n",
    "    \n",
    "# Read initialization\n",
    "with open(\"../initialization/patient_zero.yaml\") as file:\n",
    "    # The FullLoader parameter handles the conversion from YAML\n",
    "    # scalar values to Python the dictionary format\n",
    "    initialization = yaml.load(file, Loader=yaml.FullLoader)\n",
    "    "
   ]
  },
  {
   "cell_type": "code",
   "execution_count": 17,
   "metadata": {},
   "outputs": [],
   "source": [
    "initialization[\"age_group_40_49\"][\"I\"] = initialization[\"age_group_40_49\"][\"I\"] + 1\n",
    "initialization[\"age_group_40_49\"][\"S\"] = initialization[\"age_group_40_49\"][\"S\"] - 1\n",
    "for group in age_groups:\n",
    "    initialization[group][\"N\"] = initialization[group][\"S\"] + initialization[group][\"E\"] + initialization[group][\"I\"] + initialization[group][\"R\"]\n",
    "\n",
    "cont = [ 'S', 'E', 'I', 'R', 'N', 'Ia', 'Ips', \\\n",
    "       'Ims', 'Iss', 'Rq', 'H', 'ICU', 'D' ]"
   ]
  },
  {
   "cell_type": "code",
   "execution_count": 9,
   "metadata": {},
   "outputs": [],
   "source": [
    "date_1 = datetime.strptime(\"2020-03-17\", '%Y-%m-%d')\n",
    "date_2 = datetime.strptime(\"2020-05-11\", '%Y-%m-%d')\n",
    "date_3 = datetime.strptime(\"2020-06-02\", '%Y-%m-%d')\n",
    "date_4 = datetime.strptime(\"2020-06-15\", '%Y-%m-%d')\n",
    "date_5 = datetime.strptime(\"2020-06-22\", '%Y-%m-%d')\n",
    "#final_date = datetime.strptime(days[-1], '%Y-%m-%d') + timedelta(days=1)\n",
    "final_date = datetime.strptime(\"2020-06-24\", '%Y-%m-%d')"
   ]
  },
  {
   "cell_type": "code",
   "execution_count": null,
   "metadata": {},
   "outputs": [],
   "source": []
  },
  {
   "cell_type": "code",
   "execution_count": 11,
   "metadata": {},
   "outputs": [],
   "source": [
    "# Create model\n",
    "mixing_method = {}\n",
    "dynModel = FastDynamicalModel(universe_params, 1.0, mixing_method)\n",
    "initial_state = state_to_matrix(initialization)"
   ]
  },
  {
   "cell_type": "code",
   "execution_count": 48,
   "metadata": {},
   "outputs": [],
   "source": [
    "best_v = 0\n",
    "best_error = float('inf')\n",
    "def error(v):\n",
    "    days_ahead = v[0]\n",
    "    alpha = v[1]\n",
    "    beta = v[2]\n",
    "    delta_transport = v[3]\n",
    "    delta_leisure = v[4]\n",
    "    delta_other = v[5]\n",
    "    delta_work = v[6]\n",
    "\n",
    "    # Alphas\n",
    "    a_before_date_1 = {\n",
    "        'home':1.0,\n",
    "        'leisure':1.0,\n",
    "        'other':1.0,\n",
    "        'school':1.0,\n",
    "        'transport':1.0,\n",
    "        'work':1.0\n",
    "    }\n",
    "    a_between_date_1_2 = {\n",
    "        'home':1.0,\n",
    "        'leisure':0.0,\n",
    "        'other':0.0,\n",
    "        'school':0.0,\n",
    "        'transport':0.24*delta_transport,\n",
    "        'work':0.24\n",
    "    }\n",
    "    a_between_date_2_3 = {\n",
    "        'home':1.0,\n",
    "        'leisure':0.25*delta_leisure,\n",
    "        'other':delta_other,\n",
    "        'school':0.33,\n",
    "        'transport':delta_transport*delta_work,\n",
    "        'work':delta_work\n",
    "    }\n",
    "    a_between_date_3_4 = {\n",
    "        'home':1.0,\n",
    "        'leisure':0.5*delta_leisure,\n",
    "        'other':delta_other,\n",
    "        'school':0.67,\n",
    "        'transport':delta_transport*delta_work,\n",
    "        'work':delta_work\n",
    "    }\n",
    "    a_between_date_4_5 = {\n",
    "        'home':1.0,\n",
    "        'leisure':0.75*delta_leisure,\n",
    "        'other':delta_other,\n",
    "        'school':0.67,\n",
    "        'transport':delta_transport*delta_work,\n",
    "        'work':delta_work\n",
    "    }\n",
    "    a_after_date_5 = {\n",
    "        'home':1.0,\n",
    "        'leisure':1.0*delta_leisure,\n",
    "        'other':delta_other,\n",
    "        'school':1.0,\n",
    "        'transport':delta_transport*delta_work,\n",
    "        'work':delta_work\n",
    "    }\n",
    "\n",
    "\n",
    "    # Determine mixing method\n",
    "    mixing_method = {\n",
    "        \"name\":\"mult\",\n",
    "        \"param_alpha\":alpha,\n",
    "        \"param_beta\":beta,\n",
    "    }\n",
    "    dynModel.mixing_method = mixing_method\n",
    "\n",
    "    # Number of days\n",
    "    days_before_date_1 = int(days_ahead)\n",
    "    days_between_dates_1_2 = (date_2-date_1).days\n",
    "    days_between_dates_2_3 = (date_3-date_2).days\n",
    "    days_between_dates_3_4 = (date_4-date_3).days\n",
    "    days_between_dates_4_5 = (date_5-date_4).days\n",
    "    days_after_date_5 = (final_date-date_5).days\n",
    "    total_days = days_before_date_1 + days_between_dates_1_2 + days_between_dates_2_3 + days_between_dates_3_4 + days_between_dates_4_5 + days_after_date_5\n",
    "\n",
    "\n",
    "\n",
    "    # Calculate alphas\n",
    "    alphas_vec = []\n",
    "    for t in range(days_before_date_1):\n",
    "        alphas = {}\n",
    "        for age_group in age_groups:\n",
    "            alphas[age_group] = a_before_date_1\n",
    "        alphas_vec.append(alphas)\n",
    "    for t in range(days_between_dates_1_2):\n",
    "        alphas = {}\n",
    "        for age_group in age_groups:\n",
    "            alphas[age_group] = a_between_date_1_2\n",
    "        alphas_vec.append(alphas)\n",
    "    for t in range(days_between_dates_2_3):\n",
    "        alphas = {}\n",
    "        for age_group in age_groups:\n",
    "            alphas[age_group] = a_between_date_2_3\n",
    "        alphas_vec.append(alphas)\n",
    "    for t in range(days_between_dates_3_4):\n",
    "        alphas = {}\n",
    "        for age_group in age_groups:\n",
    "            alphas[age_group] = a_between_date_3_4\n",
    "        alphas_vec.append(alphas)\n",
    "    for t in range(days_between_dates_4_5):\n",
    "        alphas = {}\n",
    "        for age_group in age_groups:\n",
    "            alphas[age_group] = a_between_date_4_5\n",
    "        alphas_vec.append(alphas)\n",
    "    for t in range(days_after_date_5):\n",
    "        alphas = {}\n",
    "        for age_group in age_groups:\n",
    "            alphas[age_group] = a_after_date_5\n",
    "        alphas_vec.append(alphas)\n",
    "\n",
    "    # Calculate tests\n",
    "    tests = np.zeros(len(age_groups))\n",
    "    \n",
    "    \n",
    "    # Run model\n",
    "    model_data = []\n",
    "    state = initial_state\n",
    "    model_data.append(np.sum(state[:,cont.index(\"H\")]))\n",
    "    \n",
    "    for t in range(total_days):\n",
    "        state,_ = dynModel.take_time_step(state, tests, tests, alphas_to_matrix(alphas_vec[t]))\n",
    "        model_data.append(np.sum(state[:,cont.index(\"H\")]))\n",
    "            \n",
    "    \n",
    "    initial_date = date_1-timedelta(days=days_before_date_1)\n",
    "\n",
    "    # Calculate the days of the model\n",
    "    days_model = [initial_date+timedelta(days = t) for t in range(total_days + 1)]\n",
    "\n",
    "    # Indices where to put the real data\n",
    "    indices = [(datetime.strptime(d, '%Y-%m-%d') - initial_date).days for d in days]\n",
    "\n",
    "    # Real data\n",
    "    real_data = [float('nan')]*len(days_model)\n",
    "    for k,ind in enumerate(indices):\n",
    "        real_data[ind] = hosp_real[k]\n",
    "\n",
    "    error = np.nanmean(np.abs(np.log(np.array(model_data)/np.array(real_data))))\n",
    "    global best_error\n",
    "    if error<best_error:\n",
    "        best_error = error\n",
    "        print(best_error)\n",
    "        best_v = v\n",
    "        print(v)\n",
    "    return error\n",
    "\n",
    "\n",
    "\n"
   ]
  },
  {
   "cell_type": "code",
   "execution_count": 34,
   "metadata": {},
   "outputs": [
    {
     "name": "stdout",
     "output_type": "stream",
     "text": [
      "inf\n",
      "0.3712663576468795\n",
      "[81, 0.5, 0.5, 0.5, 0.5, 0.5]\n"
     ]
    },
    {
     "data": {
      "text/plain": [
       "0.3712663576468795"
      ]
     },
     "execution_count": 34,
     "metadata": {},
     "output_type": "execute_result"
    }
   ],
   "source": [
    "v0 = [81,0.5,0.5,0.5,0.5,0.5]\n",
    "error(v0)"
   ]
  },
  {
   "cell_type": "code",
   "execution_count": 49,
   "metadata": {},
   "outputs": [
    {
     "name": "stdout",
     "output_type": "stream",
     "text": [
      "0.4111060332033498\n",
      "[7.70580867e+01 1.16800582e-01 3.14114487e-01 8.36312854e-01\n",
      " 3.87810736e-02 1.28014391e-01 8.31838806e-02]\n",
      "0.375156881340945\n",
      "[78.63480043  0.69746171  0.42317543  0.75710181  0.73195639  0.26002213\n",
      "  0.21754691]\n"
     ]
    },
    {
     "ename": "KeyboardInterrupt",
     "evalue": "",
     "output_type": "error",
     "traceback": [
      "\u001b[0;31m---------------------------------------------------------------------------\u001b[0m",
      "\u001b[0;31mKeyboardInterrupt\u001b[0m                         Traceback (most recent call last)",
      "\u001b[0;32m<ipython-input-49-109178690472>\u001b[0m in \u001b[0;36m<module>\u001b[0;34m\u001b[0m\n\u001b[1;32m      2\u001b[0m \u001b[0mv0\u001b[0m \u001b[0;34m=\u001b[0m \u001b[0;34m[\u001b[0m\u001b[0;36m81\u001b[0m\u001b[0;34m,\u001b[0m\u001b[0;36m0.5\u001b[0m\u001b[0;34m,\u001b[0m\u001b[0;36m0.5\u001b[0m\u001b[0;34m,\u001b[0m\u001b[0;36m0.5\u001b[0m\u001b[0;34m,\u001b[0m\u001b[0;36m0.5\u001b[0m\u001b[0;34m,\u001b[0m\u001b[0;36m0.5\u001b[0m\u001b[0;34m,\u001b[0m\u001b[0;36m0.5\u001b[0m\u001b[0;34m]\u001b[0m\u001b[0;34m\u001b[0m\u001b[0;34m\u001b[0m\u001b[0m\n\u001b[1;32m      3\u001b[0m \u001b[0mbounds\u001b[0m \u001b[0;34m=\u001b[0m \u001b[0mBounds\u001b[0m\u001b[0;34m(\u001b[0m\u001b[0;34m[\u001b[0m\u001b[0;36m70\u001b[0m\u001b[0;34m,\u001b[0m \u001b[0;36m0.1\u001b[0m\u001b[0;34m,\u001b[0m \u001b[0;36m0.1\u001b[0m\u001b[0;34m,\u001b[0m \u001b[0;36m0\u001b[0m\u001b[0;34m,\u001b[0m \u001b[0;36m0\u001b[0m\u001b[0;34m,\u001b[0m \u001b[0;36m0\u001b[0m\u001b[0;34m,\u001b[0m\u001b[0;36m0.24\u001b[0m\u001b[0;34m]\u001b[0m\u001b[0;34m,\u001b[0m \u001b[0;34m[\u001b[0m\u001b[0;36m90\u001b[0m\u001b[0;34m,\u001b[0m \u001b[0;36m3.0\u001b[0m\u001b[0;34m,\u001b[0m \u001b[0;36m3.0\u001b[0m\u001b[0;34m,\u001b[0m \u001b[0;36m1.0\u001b[0m\u001b[0;34m,\u001b[0m \u001b[0;36m1.0\u001b[0m\u001b[0;34m,\u001b[0m \u001b[0;36m1.0\u001b[0m\u001b[0;34m,\u001b[0m\u001b[0;36m1.0\u001b[0m\u001b[0;34m]\u001b[0m\u001b[0;34m)\u001b[0m\u001b[0;34m\u001b[0m\u001b[0;34m\u001b[0m\u001b[0m\n\u001b[0;32m----> 4\u001b[0;31m \u001b[0mresult\u001b[0m \u001b[0;34m=\u001b[0m \u001b[0mdifferential_evolution\u001b[0m\u001b[0;34m(\u001b[0m\u001b[0merror\u001b[0m\u001b[0;34m,\u001b[0m \u001b[0;34m[\u001b[0m\u001b[0;34m(\u001b[0m\u001b[0;36m30\u001b[0m\u001b[0;34m,\u001b[0m\u001b[0;36m120\u001b[0m\u001b[0;34m)\u001b[0m\u001b[0;34m,\u001b[0m\u001b[0;34m(\u001b[0m\u001b[0;36m0.1\u001b[0m\u001b[0;34m,\u001b[0m\u001b[0;36m3.0\u001b[0m\u001b[0;34m)\u001b[0m\u001b[0;34m,\u001b[0m\u001b[0;34m(\u001b[0m\u001b[0;36m0.1\u001b[0m\u001b[0;34m,\u001b[0m\u001b[0;36m3.0\u001b[0m\u001b[0;34m)\u001b[0m\u001b[0;34m,\u001b[0m\u001b[0;34m(\u001b[0m\u001b[0;36m0.0\u001b[0m\u001b[0;34m,\u001b[0m\u001b[0;36m1.0\u001b[0m\u001b[0;34m)\u001b[0m\u001b[0;34m,\u001b[0m\u001b[0;34m(\u001b[0m\u001b[0;36m0.0\u001b[0m\u001b[0;34m,\u001b[0m\u001b[0;36m1.0\u001b[0m\u001b[0;34m)\u001b[0m\u001b[0;34m,\u001b[0m\u001b[0;34m(\u001b[0m\u001b[0;36m0.0\u001b[0m\u001b[0;34m,\u001b[0m\u001b[0;36m1.0\u001b[0m\u001b[0;34m)\u001b[0m\u001b[0;34m,\u001b[0m\u001b[0;34m(\u001b[0m\u001b[0;36m0.24\u001b[0m\u001b[0;34m,\u001b[0m\u001b[0;36m0.0\u001b[0m\u001b[0;34m)\u001b[0m\u001b[0;34m]\u001b[0m\u001b[0;34m)\u001b[0m\u001b[0;34m\u001b[0m\u001b[0;34m\u001b[0m\u001b[0m\n\u001b[0m\u001b[1;32m      5\u001b[0m \u001b[0;34m\u001b[0m\u001b[0m\n\u001b[1;32m      6\u001b[0m \u001b[0;34m\u001b[0m\u001b[0m\n",
      "\u001b[0;32m~/opt/anaconda3/lib/python3.7/site-packages/scipy/optimize/_differentialevolution.py\u001b[0m in \u001b[0;36mdifferential_evolution\u001b[0;34m(func, bounds, args, strategy, maxiter, popsize, tol, mutation, recombination, seed, callback, disp, polish, init, atol, updating, workers, constraints)\u001b[0m\n\u001b[1;32m    304\u001b[0m                                      \u001b[0mworkers\u001b[0m\u001b[0;34m=\u001b[0m\u001b[0mworkers\u001b[0m\u001b[0;34m,\u001b[0m\u001b[0;34m\u001b[0m\u001b[0;34m\u001b[0m\u001b[0m\n\u001b[1;32m    305\u001b[0m                                      constraints=constraints) as solver:\n\u001b[0;32m--> 306\u001b[0;31m         \u001b[0mret\u001b[0m \u001b[0;34m=\u001b[0m \u001b[0msolver\u001b[0m\u001b[0;34m.\u001b[0m\u001b[0msolve\u001b[0m\u001b[0;34m(\u001b[0m\u001b[0;34m)\u001b[0m\u001b[0;34m\u001b[0m\u001b[0;34m\u001b[0m\u001b[0m\n\u001b[0m\u001b[1;32m    307\u001b[0m \u001b[0;34m\u001b[0m\u001b[0m\n\u001b[1;32m    308\u001b[0m     \u001b[0;32mreturn\u001b[0m \u001b[0mret\u001b[0m\u001b[0;34m\u001b[0m\u001b[0;34m\u001b[0m\u001b[0m\n",
      "\u001b[0;32m~/opt/anaconda3/lib/python3.7/site-packages/scipy/optimize/_differentialevolution.py\u001b[0m in \u001b[0;36msolve\u001b[0;34m(self)\u001b[0m\n\u001b[1;32m    743\u001b[0m             self.population_energies[self.feasible] = (\n\u001b[1;32m    744\u001b[0m                 self._calculate_population_energies(\n\u001b[0;32m--> 745\u001b[0;31m                     self.population[self.feasible]))\n\u001b[0m\u001b[1;32m    746\u001b[0m \u001b[0;34m\u001b[0m\u001b[0m\n\u001b[1;32m    747\u001b[0m             \u001b[0mself\u001b[0m\u001b[0;34m.\u001b[0m\u001b[0m_promote_lowest_energy\u001b[0m\u001b[0;34m(\u001b[0m\u001b[0;34m)\u001b[0m\u001b[0;34m\u001b[0m\u001b[0;34m\u001b[0m\u001b[0m\n",
      "\u001b[0;32m~/opt/anaconda3/lib/python3.7/site-packages/scipy/optimize/_differentialevolution.py\u001b[0m in \u001b[0;36m_calculate_population_energies\u001b[0;34m(self, population)\u001b[0m\n\u001b[1;32m    876\u001b[0m         \u001b[0;32mtry\u001b[0m\u001b[0;34m:\u001b[0m\u001b[0;34m\u001b[0m\u001b[0;34m\u001b[0m\u001b[0m\n\u001b[1;32m    877\u001b[0m             calc_energies = list(self._mapwrapper(self.func,\n\u001b[0;32m--> 878\u001b[0;31m                                                   parameters_pop[0:nfevs]))\n\u001b[0m\u001b[1;32m    879\u001b[0m             \u001b[0menergies\u001b[0m\u001b[0;34m[\u001b[0m\u001b[0;36m0\u001b[0m\u001b[0;34m:\u001b[0m\u001b[0mnfevs\u001b[0m\u001b[0;34m]\u001b[0m \u001b[0;34m=\u001b[0m \u001b[0mcalc_energies\u001b[0m\u001b[0;34m\u001b[0m\u001b[0;34m\u001b[0m\u001b[0m\n\u001b[1;32m    880\u001b[0m         \u001b[0;32mexcept\u001b[0m \u001b[0;34m(\u001b[0m\u001b[0mTypeError\u001b[0m\u001b[0;34m,\u001b[0m \u001b[0mValueError\u001b[0m\u001b[0;34m)\u001b[0m\u001b[0;34m:\u001b[0m\u001b[0;34m\u001b[0m\u001b[0;34m\u001b[0m\u001b[0m\n",
      "\u001b[0;32m~/opt/anaconda3/lib/python3.7/site-packages/scipy/optimize/_differentialevolution.py\u001b[0m in \u001b[0;36m__call__\u001b[0;34m(self, x)\u001b[0m\n\u001b[1;32m   1263\u001b[0m \u001b[0;34m\u001b[0m\u001b[0m\n\u001b[1;32m   1264\u001b[0m     \u001b[0;32mdef\u001b[0m \u001b[0m__call__\u001b[0m\u001b[0;34m(\u001b[0m\u001b[0mself\u001b[0m\u001b[0;34m,\u001b[0m \u001b[0mx\u001b[0m\u001b[0;34m)\u001b[0m\u001b[0;34m:\u001b[0m\u001b[0;34m\u001b[0m\u001b[0;34m\u001b[0m\u001b[0m\n\u001b[0;32m-> 1265\u001b[0;31m         \u001b[0;32mreturn\u001b[0m \u001b[0mself\u001b[0m\u001b[0;34m.\u001b[0m\u001b[0mf\u001b[0m\u001b[0;34m(\u001b[0m\u001b[0mx\u001b[0m\u001b[0;34m,\u001b[0m \u001b[0;34m*\u001b[0m\u001b[0mself\u001b[0m\u001b[0;34m.\u001b[0m\u001b[0margs\u001b[0m\u001b[0;34m)\u001b[0m\u001b[0;34m\u001b[0m\u001b[0;34m\u001b[0m\u001b[0m\n\u001b[0m\u001b[1;32m   1266\u001b[0m \u001b[0;34m\u001b[0m\u001b[0m\n\u001b[1;32m   1267\u001b[0m \u001b[0;34m\u001b[0m\u001b[0m\n",
      "\u001b[0;32m<ipython-input-48-ae3615718594>\u001b[0m in \u001b[0;36merror\u001b[0;34m(v)\u001b[0m\n\u001b[1;32m    123\u001b[0m \u001b[0;34m\u001b[0m\u001b[0m\n\u001b[1;32m    124\u001b[0m     \u001b[0;32mfor\u001b[0m \u001b[0mt\u001b[0m \u001b[0;32min\u001b[0m \u001b[0mrange\u001b[0m\u001b[0;34m(\u001b[0m\u001b[0mtotal_days\u001b[0m\u001b[0;34m)\u001b[0m\u001b[0;34m:\u001b[0m\u001b[0;34m\u001b[0m\u001b[0;34m\u001b[0m\u001b[0m\n\u001b[0;32m--> 125\u001b[0;31m         \u001b[0mstate\u001b[0m\u001b[0;34m,\u001b[0m\u001b[0m_\u001b[0m \u001b[0;34m=\u001b[0m \u001b[0mdynModel\u001b[0m\u001b[0;34m.\u001b[0m\u001b[0mtake_time_step\u001b[0m\u001b[0;34m(\u001b[0m\u001b[0mstate\u001b[0m\u001b[0;34m,\u001b[0m \u001b[0mtests\u001b[0m\u001b[0;34m,\u001b[0m \u001b[0mtests\u001b[0m\u001b[0;34m,\u001b[0m \u001b[0malphas_to_matrix\u001b[0m\u001b[0;34m(\u001b[0m\u001b[0malphas_vec\u001b[0m\u001b[0;34m[\u001b[0m\u001b[0mt\u001b[0m\u001b[0;34m]\u001b[0m\u001b[0;34m)\u001b[0m\u001b[0;34m)\u001b[0m\u001b[0;34m\u001b[0m\u001b[0;34m\u001b[0m\u001b[0m\n\u001b[0m\u001b[1;32m    126\u001b[0m         \u001b[0mmodel_data\u001b[0m\u001b[0;34m.\u001b[0m\u001b[0mappend\u001b[0m\u001b[0;34m(\u001b[0m\u001b[0mnp\u001b[0m\u001b[0;34m.\u001b[0m\u001b[0msum\u001b[0m\u001b[0;34m(\u001b[0m\u001b[0mstate\u001b[0m\u001b[0;34m[\u001b[0m\u001b[0;34m:\u001b[0m\u001b[0;34m,\u001b[0m\u001b[0mcont\u001b[0m\u001b[0;34m.\u001b[0m\u001b[0mindex\u001b[0m\u001b[0;34m(\u001b[0m\u001b[0;34m\"H\"\u001b[0m\u001b[0;34m)\u001b[0m\u001b[0;34m]\u001b[0m\u001b[0;34m)\u001b[0m\u001b[0;34m)\u001b[0m\u001b[0;34m\u001b[0m\u001b[0;34m\u001b[0m\u001b[0m\n\u001b[1;32m    127\u001b[0m \u001b[0;34m\u001b[0m\u001b[0m\n",
      "\u001b[0;32m~/Dropbox/covid-optimization/fast_gradient/fast_group.py\u001b[0m in \u001b[0;36mtake_time_step\u001b[0;34m(self, state, m_tests, a_tests, alphas, update_contacts, B_H, B_ICU, B_H_perc, B_ICU_perc)\u001b[0m\n\u001b[1;32m     80\u001b[0m                 \u001b[0;31m# Update contact matric\u001b[0m\u001b[0;34m\u001b[0m\u001b[0;34m\u001b[0m\u001b[0;34m\u001b[0m\u001b[0m\n\u001b[1;32m     81\u001b[0m                 \u001b[0;32mif\u001b[0m \u001b[0mupdate_contacts\u001b[0m\u001b[0;34m:\u001b[0m\u001b[0;34m\u001b[0m\u001b[0;34m\u001b[0m\u001b[0m\n\u001b[0;32m---> 82\u001b[0;31m                         \u001b[0mself\u001b[0m\u001b[0;34m.\u001b[0m\u001b[0mupdate_contact_matrix\u001b[0m\u001b[0;34m(\u001b[0m\u001b[0;34m)\u001b[0m\u001b[0;34m\u001b[0m\u001b[0;34m\u001b[0m\u001b[0m\n\u001b[0m\u001b[1;32m     83\u001b[0m \u001b[0;34m\u001b[0m\u001b[0m\n\u001b[1;32m     84\u001b[0m                 \u001b[0;31m# Update total contacts\u001b[0m\u001b[0;34m\u001b[0m\u001b[0;34m\u001b[0m\u001b[0;34m\u001b[0m\u001b[0m\n",
      "\u001b[0;32m~/Dropbox/covid-optimization/fast_gradient/fast_group.py\u001b[0m in \u001b[0;36mupdate_contact_matrix\u001b[0;34m(self)\u001b[0m\n\u001b[1;32m    173\u001b[0m                 \u001b[0;32mfor\u001b[0m \u001b[0mg1\u001b[0m \u001b[0;32min\u001b[0m \u001b[0mrange\u001b[0m\u001b[0;34m(\u001b[0m\u001b[0mlen\u001b[0m\u001b[0;34m(\u001b[0m\u001b[0mage_groups\u001b[0m\u001b[0;34m)\u001b[0m\u001b[0;34m)\u001b[0m\u001b[0;34m:\u001b[0m\u001b[0;34m\u001b[0m\u001b[0;34m\u001b[0m\u001b[0m\n\u001b[1;32m    174\u001b[0m                         \u001b[0;32mfor\u001b[0m \u001b[0mg2\u001b[0m \u001b[0;32min\u001b[0m \u001b[0mrange\u001b[0m\u001b[0;34m(\u001b[0m\u001b[0mlen\u001b[0m\u001b[0;34m(\u001b[0m\u001b[0mage_groups\u001b[0m\u001b[0;34m)\u001b[0m\u001b[0;34m)\u001b[0m\u001b[0;34m:\u001b[0m\u001b[0;34m\u001b[0m\u001b[0;34m\u001b[0m\u001b[0m\n\u001b[0;32m--> 175\u001b[0;31m                                 \u001b[0mself\u001b[0m\u001b[0;34m.\u001b[0m\u001b[0mcontact_matrix\u001b[0m\u001b[0;34m[\u001b[0m\u001b[0mg1\u001b[0m\u001b[0;34m,\u001b[0m\u001b[0mg2\u001b[0m\u001b[0;34m]\u001b[0m \u001b[0;34m=\u001b[0m \u001b[0;36m0\u001b[0m\u001b[0;34m\u001b[0m\u001b[0;34m\u001b[0m\u001b[0m\n\u001b[0m\u001b[1;32m    176\u001b[0m                                 \u001b[0;32mfor\u001b[0m \u001b[0mact\u001b[0m \u001b[0;32min\u001b[0m \u001b[0mrange\u001b[0m\u001b[0;34m(\u001b[0m\u001b[0mlen\u001b[0m\u001b[0;34m(\u001b[0m\u001b[0mactivities\u001b[0m\u001b[0;34m)\u001b[0m\u001b[0;34m)\u001b[0m\u001b[0;34m:\u001b[0m\u001b[0;34m\u001b[0m\u001b[0;34m\u001b[0m\u001b[0m\n\u001b[1;32m    177\u001b[0m                                         \u001b[0;32mif\u001b[0m \u001b[0mself\u001b[0m\u001b[0;34m.\u001b[0m\u001b[0mmixing_method\u001b[0m\u001b[0;34m[\u001b[0m\u001b[0;34m'name'\u001b[0m\u001b[0;34m]\u001b[0m \u001b[0;34m==\u001b[0m \u001b[0;34m\"maxmin\"\u001b[0m\u001b[0;34m:\u001b[0m\u001b[0;34m\u001b[0m\u001b[0;34m\u001b[0m\u001b[0m\n",
      "\u001b[0;31mKeyboardInterrupt\u001b[0m: "
     ]
    }
   ],
   "source": [
    "from scipy.optimize import minimize, Bounds, shgo, differential_evolution\n",
    "v0 = [81,0.5,0.5,0.5,0.5,0.5,0.5]\n",
    "bounds = Bounds([70, 0.1, 0.1, 0, 0, 0,0.24], [90, 3.0, 3.0, 1.0, 1.0, 1.0,1.0])\n",
    "result = differential_evolution(error, [(30,120),(0.1,3.0),(0.1,3.0),(0.0,1.0),(0.0,1.0),(0.0,1.0),(0.24,1.0)])\n",
    "\n",
    "\n"
   ]
  },
  {
   "cell_type": "code",
   "execution_count": 342,
   "metadata": {},
   "outputs": [
    {
     "data": {
      "text/plain": [
       "0.4993335390415157"
      ]
     },
     "execution_count": 342,
     "metadata": {},
     "output_type": "execute_result"
    }
   ],
   "source": [
    "error(v)"
   ]
  },
  {
   "cell_type": "code",
   "execution_count": null,
   "metadata": {},
   "outputs": [],
   "source": []
  },
  {
   "cell_type": "code",
   "execution_count": null,
   "metadata": {},
   "outputs": [],
   "source": []
  },
  {
   "cell_type": "code",
   "execution_count": 45,
   "metadata": {},
   "outputs": [],
   "source": [
    "vf = [7.92333786e+01, 1.80723505e-01, 5.39344398e-01, 1.76742023e-01,7.53064495e-02, 1.04010242e-03]"
   ]
  },
  {
   "cell_type": "code",
   "execution_count": 46,
   "metadata": {},
   "outputs": [],
   "source": [
    "days_ahead = vf[0]\n",
    "alpha = vf[1]\n",
    "beta = vf[2]\n",
    "delta_transport = vf[3]\n",
    "delta_leisure = vf[4]\n",
    "delta_other = vf[5]\n",
    "\n",
    "# Alphas\n",
    "a_before_date_1 = {\n",
    "    'home':1.0,\n",
    "    'leisure':1.0,\n",
    "    'other':1.0,\n",
    "    'school':1.0,\n",
    "    'transport':1.0,\n",
    "    'work':1.0\n",
    "}\n",
    "a_between_date_1_2 = {\n",
    "    'home':1.0,\n",
    "    'leisure':0.0,\n",
    "    'other':0.0,\n",
    "    'school':0.0,\n",
    "    'transport':0.24*delta_transport,\n",
    "    'work':0.24\n",
    "}\n",
    "a_between_date_2_3 = {\n",
    "    'home':1.0,\n",
    "    'leisure':0.25*delta_leisure,\n",
    "    'other':delta_other,\n",
    "    'school':0.33,\n",
    "    'transport':delta_transport,\n",
    "    'work':1.0\n",
    "}\n",
    "a_between_date_3_4 = {\n",
    "    'home':1.0,\n",
    "    'leisure':0.5*delta_leisure,\n",
    "    'other':delta_other,\n",
    "    'school':0.67,\n",
    "    'transport':delta_transport,\n",
    "    'work':1.0\n",
    "}\n",
    "a_between_date_4_5 = {\n",
    "    'home':1.0,\n",
    "    'leisure':0.75*delta_leisure,\n",
    "    'other':delta_other,\n",
    "    'school':0.67,\n",
    "    'transport':delta_transport,\n",
    "    'work':1.0\n",
    "}\n",
    "a_after_date_5 = {\n",
    "    'home':1.0,\n",
    "    'leisure':1.0*delta_leisure,\n",
    "    'other':delta_other,\n",
    "    'school':1.0,\n",
    "    'transport':delta_transport,\n",
    "    'work':1.0\n",
    "}\n",
    "\n",
    "\n",
    "# Determine mixing method\n",
    "mixing_method = {\n",
    "    \"name\":\"mult\",\n",
    "    \"param_alpha\":alpha,\n",
    "    \"param_beta\":beta,\n",
    "}\n",
    "dynModel.mixing_method = mixing_method\n",
    "\n",
    "# Number of days\n",
    "days_before_date_1 = int(days_ahead)\n",
    "days_between_dates_1_2 = (date_2-date_1).days\n",
    "days_between_dates_2_3 = (date_3-date_2).days\n",
    "days_between_dates_3_4 = (date_4-date_3).days\n",
    "days_between_dates_4_5 = (date_5-date_4).days\n",
    "days_after_date_5 = (final_date-date_5).days\n",
    "total_days = days_before_date_1 + days_between_dates_1_2 + days_between_dates_2_3 + days_between_dates_3_4 + days_between_dates_4_5 + days_after_date_5\n",
    "\n",
    "\n",
    "\n",
    "# Calculate alphas\n",
    "alphas_vec = []\n",
    "for t in range(days_before_date_1):\n",
    "    alphas = {}\n",
    "    for age_group in age_groups:\n",
    "        alphas[age_group] = a_before_date_1\n",
    "    alphas_vec.append(alphas)\n",
    "for t in range(days_between_dates_1_2):\n",
    "    alphas = {}\n",
    "    for age_group in age_groups:\n",
    "        alphas[age_group] = a_between_date_1_2\n",
    "    alphas_vec.append(alphas)\n",
    "for t in range(days_between_dates_2_3):\n",
    "    alphas = {}\n",
    "    for age_group in age_groups:\n",
    "        alphas[age_group] = a_between_date_2_3\n",
    "    alphas_vec.append(alphas)\n",
    "for t in range(days_between_dates_3_4):\n",
    "    alphas = {}\n",
    "    for age_group in age_groups:\n",
    "        alphas[age_group] = a_between_date_3_4\n",
    "    alphas_vec.append(alphas)\n",
    "for t in range(days_between_dates_4_5):\n",
    "    alphas = {}\n",
    "    for age_group in age_groups:\n",
    "        alphas[age_group] = a_between_date_4_5\n",
    "    alphas_vec.append(alphas)\n",
    "for t in range(days_after_date_5):\n",
    "    alphas = {}\n",
    "    for age_group in age_groups:\n",
    "        alphas[age_group] = a_after_date_5\n",
    "    alphas_vec.append(alphas)\n",
    "\n",
    "# Calculate tests\n",
    "tests = np.zeros(len(age_groups))\n",
    "\n",
    "\n",
    "# Run model\n",
    "model_data = []\n",
    "state = initial_state\n",
    "model_data.append(np.sum(state[:,cont.index(\"H\")]))\n",
    "\n",
    "for t in range(total_days):\n",
    "    state,_ = dynModel.take_time_step(state, tests, tests, alphas_to_matrix(alphas_vec[t]))\n",
    "    model_data.append(np.sum(state[:,cont.index(\"H\")]))\n",
    "\n",
    "\n",
    "initial_date = date_1-timedelta(days=days_before_date_1)\n",
    "\n",
    "# Calculate the days of the model\n",
    "days_model = [initial_date+timedelta(days = t) for t in range(total_days + 1)]\n",
    "\n",
    "# Indices where to put the real data\n",
    "indices = [(datetime.strptime(d, '%Y-%m-%d') - initial_date).days for d in days]\n",
    "\n",
    "# Real data\n",
    "real_data = [float('nan')]*len(days_model)\n",
    "for k,ind in enumerate(indices):\n",
    "    real_data[ind] = hosp_real[k]\n"
   ]
  },
  {
   "cell_type": "code",
   "execution_count": 47,
   "metadata": {},
   "outputs": [
    {
     "data": {
      "text/plain": [
       "<matplotlib.legend.Legend at 0x7fa72a433d10>"
      ]
     },
     "execution_count": 47,
     "metadata": {},
     "output_type": "execute_result"
    },
    {
     "data": {
      "image/png": "[encoded data removed]",
      "text/plain": [
       "<Figure size 432x288 with 1 Axes>"
      ]
     },
     "metadata": {
      "needs_background": "light"
     },
     "output_type": "display_data"
    }
   ],
   "source": [
    "%matplotlib inline\n",
    "plt.figure(1)\n",
    "plt.plot(days_model, model_data, label=\"Model L1\")\n",
    "plt.plot(days_model, real_data, label=\"Model L1\")\n",
    "plt.legend(loc='upper right')"
   ]
  },
  {
   "cell_type": "code",
   "execution_count": null,
   "metadata": {},
   "outputs": [],
   "source": []
  }
 ],
 "metadata": {
  "kernelspec": {
   "display_name": "Python 3",
   "language": "python",
   "name": "python3"
  },
  "language_info": {
   "codemirror_mode": {
    "name": "ipython",
    "version": 3
   },
   "file_extension": ".py",
   "mimetype": "text/x-python",
   "name": "python",
   "nbconvert_exporter": "python",
   "pygments_lexer": "ipython3",
   "version": "3.7.6"
  }
 },
 "nbformat": 4,
 "nbformat_minor": 4
}
