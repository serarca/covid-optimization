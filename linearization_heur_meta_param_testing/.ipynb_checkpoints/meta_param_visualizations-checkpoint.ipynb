{
 "cells": [
  {
   "cell_type": "code",
   "execution_count": 89,
   "metadata": {},
   "outputs": [],
   "source": [
    "%matplotlib inline\n",
    "import pandas as pd\n",
    "import matplotlib\n",
    "# matplotlib.use('Agg')\n",
    "import matplotlib.pyplot as plt\n",
    "import os.path\n",
    "import sys\n",
    "import numpy as np\n"
   ]
  },
  {
   "cell_type": "code",
   "execution_count": 84,
   "metadata": {},
   "outputs": [],
   "source": [
    "# Define set of all parameters and meta-parameters\n",
    "    parameters = {    \n",
    "    \"delta_schooling\":[0.5],\n",
    "        \"xi\":[0, 30 * 37199.03, 140 * 37199.03],\n",
    "        \"icus\":[3000],\n",
    "        \"tests\":[0],\n",
    "        \"frequencies\":[(7,14)],\n",
    "        \"eta\":[0.1, 0]\n",
    "    }\n",
    "    \n",
    "    meta_parameters = {\n",
    "        \"trust_region_radius\":[0,0.05,0.1,0.2,0.4,0.6],\n",
    "        \"max_inner_iterations_mult\":[1, 1.5, 2],\n",
    "        \"initial_uhat\":[\"dynamic_gradient\", \"full_lockdown\", \"full_open\"]\n",
    "    }\n",
    "    \n",
    "    n_days = 90\n",
    "    groups = \"all\"\n"
   ]
  },
  {
   "cell_type": "code",
   "execution_count": 85,
   "metadata": {},
   "outputs": [],
   "source": [
    "# Add all data into one big pandas dataframe\n",
    "\n",
    "ls = []\n",
    "\n",
    "for delta in parameters[\"delta_schooling\"]:\n",
    "    for xi in parameters[\"xi\"]:\n",
    "        for icus in parameters[\"icus\"]:\n",
    "            for tests in parameters[\"tests\"]:\n",
    "                for freq in parameters[\"frequencies\"]:\n",
    "                    for eta in parameters[\"eta\"]:\n",
    "                        for initial_uhat in meta_parameters[\"initial_uhat\"]:\n",
    "                            with open(f\"testing_outputs_ndays={n_days}_eta={eta}_tests={tests}_xi={xi*10}_freq={freq[1]}_groups={groups}_initial_uhat={initial_uhat}.csv\", \"r\") as file:\n",
    "                                df = pd.read_csv(file, header=None, names=[\"radius\", \"factor\", \"num_iterations\", \"reward\", \"time\"])\n",
    "                            if len(df) == 0:\n",
    "                                print(file.name)\n",
    "                            df[\"delta\"] = delta\n",
    "                            df[\"xi\"] = xi\n",
    "                            df[\"icus\"] = icus\n",
    "                            df[\"tests\"] = tests\n",
    "                            df[\"freq\"] = freq[1]\n",
    "                            df[\"eta\"] = eta\n",
    "                            df[\"initial_uhat\"] = initial_uhat\n",
    "                            ls.append(df)\n",
    "\n",
    "all_data = pd.concat(ls, ignore_index=True)\n"
   ]
  },
  {
   "cell_type": "code",
   "execution_count": 55,
   "metadata": {},
   "outputs": [
    {
     "name": "stdout",
     "output_type": "stream",
     "text": [
      "For xi=0 and eta=0.1, the maximum reward is: 54293211.26175425\n",
      "And these are the meta-parameters that achieve it:\n",
      "Observe that radius == 0 implies that the solution follows the initial uhat\n",
      "    radius  factor  num_iterations        reward         time  delta   xi  \\\n",
      "3      0.2     1.0             5.0  5.429321e+07  3706.690063    0.5  0.0   \n",
      "10     0.2     1.5             7.5  5.429321e+07  4080.882481    0.5  0.0   \n",
      "11     0.2     2.0            10.0  5.429321e+07  4156.937640    0.5  0.0   \n",
      "\n",
      "    icus  tests  freq  eta      initial_uhat  \n",
      "3   3000      0    14  0.1  dynamic_gradient  \n",
      "10  3000      0    14  0.1  dynamic_gradient  \n",
      "11  3000      0    14  0.1  dynamic_gradient  \n",
      "\n",
      "For xi=0 and eta=0, the maximum reward is: 56136871.74392151\n",
      "And these are the meta-parameters that achieve it:\n",
      "Observe that radius == 0 implies that the solution follows the initial uhat\n",
      "     radius  factor  num_iterations        reward          time  delta   xi  \\\n",
      "49     0.00     1.0        0.000000  5.613687e+07    995.046486    0.5  0.0   \n",
      "50     0.00     1.5        0.000000  5.613687e+07    993.692047    0.5  0.0   \n",
      "51     0.00     2.0        0.000000  5.613687e+07   1027.949372    0.5  0.0   \n",
      "52     0.10     1.0       10.000000  5.613687e+07   5063.594379    0.5  0.0   \n",
      "53     0.60     1.0        1.666667  5.613687e+07    969.355915    0.5  0.0   \n",
      "54     0.40     1.0        2.500000  5.613687e+07   1018.715516    0.5  0.0   \n",
      "55     0.20     1.0        5.000000  5.613687e+07   1018.902580    0.5  0.0   \n",
      "56     0.40     2.0        5.000000  5.613687e+07   1023.426067    0.5  0.0   \n",
      "57     0.20     1.5        7.500000  5.613687e+07   1043.275441    0.5  0.0   \n",
      "58     0.20     2.0       10.000000  5.613687e+07   1070.328031    0.5  0.0   \n",
      "59     0.60     1.5        2.500000  5.613687e+07   1074.613983    0.5  0.0   \n",
      "60     0.40     1.5        3.750000  5.613687e+07   1108.922771    0.5  0.0   \n",
      "61     0.10     1.5       15.000000  5.613687e+07   1225.597957    0.5  0.0   \n",
      "62     0.10     2.0       20.000000  5.613687e+07   1227.897834    0.5  0.0   \n",
      "63     0.60     2.0        3.333333  5.613687e+07    995.243809    0.5  0.0   \n",
      "64     0.05     2.0       40.000000  5.613687e+07  13043.782956    0.5  0.0   \n",
      "65     0.05     1.0       20.000000  5.613687e+07  13092.215311    0.5  0.0   \n",
      "66     0.05     1.5       30.000000  5.613687e+07  13178.983890    0.5  0.0   \n",
      "70     0.10     1.0       10.000000  5.613687e+07   1153.464523    0.5  0.0   \n",
      "71     0.05     1.0       20.000000  5.613687e+07   1324.082683    0.5  0.0   \n",
      "72     0.05     2.0       40.000000  5.613687e+07   1449.033748    0.5  0.0   \n",
      "73     0.05     1.5       30.000000  5.613687e+07   1454.945754    0.5  0.0   \n",
      "74     0.20     1.0        5.000000  5.613687e+07   1013.823967    0.5  0.0   \n",
      "75     0.60     1.0        1.666667  5.613687e+07   1038.315714    0.5  0.0   \n",
      "76     0.40     1.0        2.500000  5.613687e+07   1051.980746    0.5  0.0   \n",
      "77     0.40     2.0        5.000000  5.613687e+07   1069.561136    0.5  0.0   \n",
      "78     0.40     1.5        3.750000  5.613687e+07   1074.345327    0.5  0.0   \n",
      "79     0.20     2.0       10.000000  5.613687e+07   1116.480526    0.5  0.0   \n",
      "80     0.20     1.5        7.500000  5.613687e+07   1122.518162    0.5  0.0   \n",
      "81     0.10     2.0       20.000000  5.613687e+07   1132.041739    0.5  0.0   \n",
      "82     0.10     1.5       15.000000  5.613687e+07   1223.601828    0.5  0.0   \n",
      "83     0.60     2.0        3.333333  5.613687e+07    959.029017    0.5  0.0   \n",
      "84     0.60     1.5        2.500000  5.613687e+07   1059.395451    0.5  0.0   \n",
      "89     0.05     1.5       30.000000  5.613687e+07   1401.018811    0.5  0.0   \n",
      "90     0.05     2.0       40.000000  5.613687e+07   1401.712143    0.5  0.0   \n",
      "91     0.05     1.0       20.000000  5.613687e+07   1482.816339    0.5  0.0   \n",
      "93     0.20     1.5        7.500000  5.613687e+07   1054.552136    0.5  0.0   \n",
      "95     0.40     1.5        3.750000  5.613687e+07   1108.301720    0.5  0.0   \n",
      "96     0.40     1.0        2.500000  5.613687e+07   1108.540243    0.5  0.0   \n",
      "97     0.40     2.0        5.000000  5.613687e+07   1111.887886    0.5  0.0   \n",
      "98     0.20     2.0       10.000000  5.613687e+07   1133.850993    0.5  0.0   \n",
      "99     0.10     1.5       15.000000  5.613687e+07   1159.858073    0.5  0.0   \n",
      "100    0.10     2.0       20.000000  5.613687e+07   1163.280135    0.5  0.0   \n",
      "101    0.60     2.0        3.333333  5.613687e+07    993.447504    0.5  0.0   \n",
      "102    0.60     1.5        2.500000  5.613687e+07   1077.332768    0.5  0.0   \n",
      "\n",
      "     icus  tests  freq  eta      initial_uhat  \n",
      "49   3000      0    14  0.0  dynamic_gradient  \n",
      "50   3000      0    14  0.0  dynamic_gradient  \n",
      "51   3000      0    14  0.0  dynamic_gradient  \n",
      "52   3000      0    14  0.0  dynamic_gradient  \n",
      "53   3000      0    14  0.0  dynamic_gradient  \n",
      "54   3000      0    14  0.0  dynamic_gradient  \n",
      "55   3000      0    14  0.0  dynamic_gradient  \n",
      "56   3000      0    14  0.0  dynamic_gradient  \n",
      "57   3000      0    14  0.0  dynamic_gradient  \n",
      "58   3000      0    14  0.0  dynamic_gradient  \n",
      "59   3000      0    14  0.0  dynamic_gradient  \n",
      "60   3000      0    14  0.0  dynamic_gradient  \n",
      "61   3000      0    14  0.0  dynamic_gradient  \n",
      "62   3000      0    14  0.0  dynamic_gradient  \n",
      "63   3000      0    14  0.0  dynamic_gradient  \n",
      "64   3000      0    14  0.0  dynamic_gradient  \n",
      "65   3000      0    14  0.0  dynamic_gradient  \n",
      "66   3000      0    14  0.0  dynamic_gradient  \n",
      "70   3000      0    14  0.0     full_lockdown  \n",
      "71   3000      0    14  0.0     full_lockdown  \n",
      "72   3000      0    14  0.0     full_lockdown  \n",
      "73   3000      0    14  0.0     full_lockdown  \n",
      "74   3000      0    14  0.0     full_lockdown  \n",
      "75   3000      0    14  0.0     full_lockdown  \n",
      "76   3000      0    14  0.0     full_lockdown  \n",
      "77   3000      0    14  0.0     full_lockdown  \n",
      "78   3000      0    14  0.0     full_lockdown  \n",
      "79   3000      0    14  0.0     full_lockdown  \n",
      "80   3000      0    14  0.0     full_lockdown  \n",
      "81   3000      0    14  0.0     full_lockdown  \n",
      "82   3000      0    14  0.0     full_lockdown  \n",
      "83   3000      0    14  0.0     full_lockdown  \n",
      "84   3000      0    14  0.0     full_lockdown  \n",
      "89   3000      0    14  0.0         full_open  \n",
      "90   3000      0    14  0.0         full_open  \n",
      "91   3000      0    14  0.0         full_open  \n",
      "93   3000      0    14  0.0         full_open  \n",
      "95   3000      0    14  0.0         full_open  \n",
      "96   3000      0    14  0.0         full_open  \n",
      "97   3000      0    14  0.0         full_open  \n",
      "98   3000      0    14  0.0         full_open  \n",
      "99   3000      0    14  0.0         full_open  \n",
      "100  3000      0    14  0.0         full_open  \n",
      "101  3000      0    14  0.0         full_open  \n",
      "102  3000      0    14  0.0         full_open  \n",
      "\n",
      "For xi=1115970.9 and eta=0.1, the maximum reward is: 40866436.96279822\n",
      "And these are the meta-parameters that achieve it:\n",
      "Observe that radius == 0 implies that the solution follows the initial uhat\n",
      "     radius  factor  num_iterations        reward         time  delta  \\\n",
      "116     0.2     1.0             5.0  4.086644e+07  4260.495875    0.5   \n",
      "\n",
      "            xi  icus  tests  freq  eta      initial_uhat  \n",
      "116  1115970.9  3000      0    14  0.1  dynamic_gradient  \n",
      "\n",
      "For xi=1115970.9 and eta=0, the maximum reward is: 44640558.63994736\n",
      "And these are the meta-parameters that achieve it:\n",
      "Observe that radius == 0 implies that the solution follows the initial uhat\n",
      "     radius  factor  num_iterations        reward         time  delta  \\\n",
      "161    0.05     2.0            40.0  4.464056e+07  1806.562479    0.5   \n",
      "162    0.05     1.5            30.0  4.464056e+07  1814.868055    0.5   \n",
      "165    0.05     1.0            20.0  4.464056e+07  1988.029721    0.5   \n",
      "\n",
      "            xi  icus  tests  freq  eta      initial_uhat  \n",
      "161  1115970.9  3000      0    14  0.0  dynamic_gradient  \n",
      "162  1115970.9  3000      0    14  0.0  dynamic_gradient  \n",
      "165  1115970.9  3000      0    14  0.0  dynamic_gradient  \n",
      "\n",
      "For xi=5207864.2 and eta=0.1, the maximum reward is: 12401427.57902864\n",
      "And these are the meta-parameters that achieve it:\n",
      "Observe that radius == 0 implies that the solution follows the initial uhat\n",
      "     radius  factor  num_iterations        reward         time  delta  \\\n",
      "221     0.1     1.5            15.0  1.240143e+07  6068.042891    0.5   \n",
      "222     0.1     1.0            10.0  1.240143e+07  6144.948984    0.5   \n",
      "223     0.1     2.0            20.0  1.240143e+07  6146.780786    0.5   \n",
      "\n",
      "            xi  icus  tests  freq  eta      initial_uhat  \n",
      "221  5207864.2  3000      0    14  0.1  dynamic_gradient  \n",
      "222  5207864.2  3000      0    14  0.1  dynamic_gradient  \n",
      "223  5207864.2  3000      0    14  0.1  dynamic_gradient  \n",
      "\n",
      "For xi=5207864.2 and eta=0, the maximum reward is: 15761874.03898696\n",
      "And these are the meta-parameters that achieve it:\n",
      "Observe that radius == 0 implies that the solution follows the initial uhat\n",
      "     radius  factor  num_iterations        reward         time  delta  \\\n",
      "271    0.05     1.0            20.0  1.576187e+07  2203.850391    0.5   \n",
      "279    0.05     1.5            30.0  1.576187e+07  2570.313755    0.5   \n",
      "280    0.05     2.0            40.0  1.576187e+07  2630.622715    0.5   \n",
      "\n",
      "            xi  icus  tests  freq  eta      initial_uhat  \n",
      "271  5207864.2  3000      0    14  0.0  dynamic_gradient  \n",
      "279  5207864.2  3000      0    14  0.0  dynamic_gradient  \n",
      "280  5207864.2  3000      0    14  0.0  dynamic_gradient  \n",
      "\n"
     ]
    }
   ],
   "source": [
    "# First, look for each combination of parameters what combination of meta-param achieves the best rewards\n",
    "\n",
    "for delta in parameters[\"delta_schooling\"]:\n",
    "    for xi in parameters[\"xi\"]:\n",
    "        for icus in parameters[\"icus\"]:\n",
    "            for tests in parameters[\"tests\"]:\n",
    "                for freq in parameters[\"frequencies\"]:\n",
    "                    for eta in parameters[\"eta\"]:\n",
    "                        maximum_reward = all_data[(all_data.delta == delta) \n",
    "                                                 & (all_data.xi == xi) \n",
    "                                                 & (all_data.icus == icus)\n",
    "                                                 & (all_data.tests == tests) \n",
    "                                                 & (all_data.freq == freq[1])\n",
    "                                                 & (all_data.eta == eta)].reward.max()\n",
    "                        print(f\"For xi={xi} and eta={eta}, the maximum reward is: {maximum_reward}\")\n",
    "                        print(f\"And these are the meta-parameters that achieve it:\")\n",
    "                        print(\"Observe that radius == 0 implies that the solution follows the initial uhat\")\n",
    "                        print(all_data[all_data.reward == maximum_reward])\n",
    "                        print(\"\")"
   ]
  },
  {
   "cell_type": "markdown",
   "metadata": {},
   "source": [
    "Notice above that for any combination of parameters we achieve the maximum reward for some combination of meta_param"
   ]
  },
  {
   "cell_type": "code",
   "execution_count": 86,
   "metadata": {},
   "outputs": [],
   "source": [
    "# Now we'll define the ratio of the rewards wrt to the maximum reward \n",
    "\n",
    "for delta in parameters[\"delta_schooling\"]:\n",
    "    for xi in parameters[\"xi\"]:\n",
    "        for icus in parameters[\"icus\"]:\n",
    "            for tests in parameters[\"tests\"]:\n",
    "                for freq in parameters[\"frequencies\"]:\n",
    "                    for eta in parameters[\"eta\"]:\n",
    "                        maximum_reward = all_data[(all_data.delta == delta) \n",
    "                                                 & (all_data.xi == xi) \n",
    "                                                 & (all_data.icus == icus)\n",
    "                                                 & (all_data.tests == tests) \n",
    "                                                 & (all_data.freq == freq[1])\n",
    "                                                 & (all_data.eta == eta)].reward.max()\n",
    "                        \n",
    "                        all_data.loc[(all_data.delta == delta)\n",
    "                                                 & (all_data.xi == xi) \n",
    "                                                 & (all_data.icus == icus)\n",
    "                                                 & (all_data.tests == tests) \n",
    "                                                 & (all_data.freq == freq[1])\n",
    "                                                 & (all_data.eta == eta), \"FractionalReward\"] = all_data[(all_data.delta == delta) \n",
    "                                                 & (all_data.xi == xi) \n",
    "                                                 & (all_data.icus == icus)\n",
    "                                                 & (all_data.tests == tests) \n",
    "                                                 & (all_data.freq == freq[1])\n",
    "                                                 & (all_data.eta == eta)].reward / maximum_reward\n"
   ]
  },
  {
   "cell_type": "code",
   "execution_count": null,
   "metadata": {},
   "outputs": [
    {
     "name": "stdout",
     "output_type": "stream",
     "text": [
      "Meta Param: radius = 0, factor = 1, num iterations = 0, initia uhat = dynamic_gradient\n",
      "List of Fractional Rewards: [0.9987404821014148, 1.0, 0.9841469575663407, 0.9787632453405194, 0.9029323852644886, 0.9776427558478772]\n",
      "Histogram of Fractional Rewards:\n"
     ]
    },
    {
     "data": {
      "image/png": "[encoded data removed]",
      "text/plain": [
       "<matplotlib.figure.Figure at 0x7efc45e0c940>"
      ]
     },
     "metadata": {
      "needs_background": "light"
     },
     "output_type": "display_data"
    },
    {
     "name": "stdout",
     "output_type": "stream",
     "text": [
      "Meta Param: radius = 0, factor = 1, num iterations = 0, initia uhat = full_lockdown\n",
      "List of Fractional Rewards: [0.2903372109795281, 0.28080188730086986, 0.23192030059507848, 0.21231267334949205, -1.0941790156556364, -0.8608990141389522]\n",
      "Histogram of Fractional Rewards:\n"
     ]
    },
    {
     "data": {
      "image/png": "[encoded data removed]",
      "text/plain": [
       "<matplotlib.figure.Figure at 0x7efc9ba262b0>"
      ]
     },
     "metadata": {
      "needs_background": "light"
     },
     "output_type": "display_data"
    },
    {
     "name": "stdout",
     "output_type": "stream",
     "text": [
      "Meta Param: radius = 0, factor = 1, num iterations = 0, initia uhat = full_open\n",
      "List of Fractional Rewards: [0.9494812689463952, 0.9182981794771456, -1.3195006322791651, -1.2079438755758476, -35.49309823801783, -27.925936107938675]\n",
      "Histogram of Fractional Rewards:\n"
     ]
    },
    {
     "data": {
      "image/png": "[encoded data removed]",
      "text/plain": [
       "<matplotlib.figure.Figure at 0x7efc92a6cb70>"
      ]
     },
     "metadata": {
      "needs_background": "light"
     },
     "output_type": "display_data"
    },
    {
     "name": "stdout",
     "output_type": "stream",
     "text": [
      "Meta Param: radius = 0, factor = 1.5, num iterations = 0, initia uhat = dynamic_gradient\n",
      "List of Fractional Rewards: [0.9987404821014148, 1.0, 0.9841469575663407, 0.9787632453405194, 0.9029323852644886, 0.9776427558478772]\n",
      "Histogram of Fractional Rewards:\n"
     ]
    },
    {
     "data": {
      "image/png": "[encoded data removed]",
      "text/plain": [
       "<matplotlib.figure.Figure at 0x7efc4f5b3438>"
      ]
     },
     "metadata": {
      "needs_background": "light"
     },
     "output_type": "display_data"
    },
    {
     "name": "stdout",
     "output_type": "stream",
     "text": [
      "Meta Param: radius = 0, factor = 1.5, num iterations = 0, initia uhat = full_lockdown\n",
      "List of Fractional Rewards: [0.2903372109795281, 0.28080188730086986, 0.23192030059507848, 0.21231267334949205, -1.0941790156556364, -0.8608990141389522]\n",
      "Histogram of Fractional Rewards:\n"
     ]
    },
    {
     "data": {
      "image/png": "[encoded data removed]",
      "text/plain": [
       "<matplotlib.figure.Figure at 0x7efc9bb2fda0>"
      ]
     },
     "metadata": {
      "needs_background": "light"
     },
     "output_type": "display_data"
    },
    {
     "name": "stdout",
     "output_type": "stream",
     "text": [
      "Meta Param: radius = 0, factor = 1.5, num iterations = 0, initia uhat = full_open\n",
      "List of Fractional Rewards: [0.9494812689463952, 0.9182981794771456, -1.3195006322791651, -1.2079438755758476, -35.49309823801783, -27.925936107938675]\n",
      "Histogram of Fractional Rewards:\n"
     ]
    },
    {
     "data": {
      "image/png": "[encoded data removed]",
      "text/plain": [
       "<matplotlib.figure.Figure at 0x7efc44fdc5f8>"
      ]
     },
     "metadata": {
      "needs_background": "light"
     },
     "output_type": "display_data"
    },
    {
     "name": "stdout",
     "output_type": "stream",
     "text": [
      "Meta Param: radius = 0, factor = 2, num iterations = 0, initia uhat = dynamic_gradient\n",
      "List of Fractional Rewards: [0.9987404821014148, 1.0, 0.9841469575663407, 0.9787632453405194, 0.9029323852644886, 0.9776427558478772]\n",
      "Histogram of Fractional Rewards:\n"
     ]
    },
    {
     "data": {
      "image/png": "[encoded data removed]",
      "text/plain": [
       "<matplotlib.figure.Figure at 0x7efc45921080>"
      ]
     },
     "metadata": {
      "needs_background": "light"
     },
     "output_type": "display_data"
    },
    {
     "name": "stdout",
     "output_type": "stream",
     "text": [
      "Meta Param: radius = 0, factor = 2, num iterations = 0, initia uhat = full_lockdown\n",
      "List of Fractional Rewards: [0.2903372109795281, 0.28080188730086986, 0.23192030059507848, 0.21231267334949205, -1.0941790156556364, -0.8608990141389522]\n",
      "Histogram of Fractional Rewards:\n"
     ]
    },
    {
     "data": {
      "image/png": "[encoded data removed]",
      "text/plain": [
       "<matplotlib.figure.Figure at 0x7efc92a62f60>"
      ]
     },
     "metadata": {
      "needs_background": "light"
     },
     "output_type": "display_data"
    },
    {
     "name": "stdout",
     "output_type": "stream",
     "text": [
      "Meta Param: radius = 0, factor = 2, num iterations = 0, initia uhat = full_open\n",
      "List of Fractional Rewards: [0.9494812689463952, 0.9182981794771456, -1.3195006322791651, -1.2079438755758476, -35.49309823801783, -27.925936107938675]\n",
      "Histogram of Fractional Rewards:\n"
     ]
    },
    {
     "data": {
      "image/png": "[encoded data removed]",
      "text/plain": [
       "<matplotlib.figure.Figure at 0x7efc44f4a860>"
      ]
     },
     "metadata": {
      "needs_background": "light"
     },
     "output_type": "display_data"
    },
    {
     "name": "stdout",
     "output_type": "stream",
     "text": [
      "Meta Param: radius = 0.05, factor = 1, num iterations = 20.0, initia uhat = dynamic_gradient\n",
      "List of Fractional Rewards: [0.9998391765660253, 1.0, 0.9929778620598274, 1.0, 0.989962052146527, 1.0]\n",
      "Histogram of Fractional Rewards:\n"
     ]
    },
    {
     "data": {
      "image/png": "[encoded data removed]",
      "text/plain": [
       "<matplotlib.figure.Figure at 0x7efc45340908>"
      ]
     },
     "metadata": {
      "needs_background": "light"
     },
     "output_type": "display_data"
    },
    {
     "name": "stdout",
     "output_type": "stream",
     "text": [
      "Meta Param: radius = 0.05, factor = 1, num iterations = 20.0, initia uhat = full_lockdown\n",
      "List of Fractional Rewards: [0.9970920506348105, 1.0, 0.9956897982061264, 0.998661110608038, 0.961876165039957, 0.9743971549072803]\n",
      "Histogram of Fractional Rewards:\n"
     ]
    },
    {
     "data": {
      "image/png": "[encoded data removed]",
      "text/plain": [
       "<matplotlib.figure.Figure at 0x7efc45d23320>"
      ]
     },
     "metadata": {
      "needs_background": "light"
     },
     "output_type": "display_data"
    },
    {
     "name": "stdout",
     "output_type": "stream",
     "text": [
      "Meta Param: radius = 0.05, factor = 1, num iterations = 20.0, initia uhat = full_open\n",
      "List of Fractional Rewards: [0.9964246002643651, 1.0, 0.9960312922340072, 0.9951455170701691, 0.9692229006431379, 0.9690957451478249]\n",
      "Histogram of Fractional Rewards:\n"
     ]
    },
    {
     "data": {
      "image/png": "[encoded data removed]",
      "text/plain": [
       "<matplotlib.figure.Figure at 0x7efc9bb23278>"
      ]
     },
     "metadata": {
      "needs_background": "light"
     },
     "output_type": "display_data"
    },
    {
     "name": "stdout",
     "output_type": "stream",
     "text": [
      "Meta Param: radius = 0.05, factor = 1.5, num iterations = 30.0, initia uhat = dynamic_gradient\n",
      "List of Fractional Rewards: [0.9998391765660253, 1.0, 0.9929778620598274, 1.0, 0.98979063708076, 1.0]\n",
      "Histogram of Fractional Rewards:\n"
     ]
    },
    {
     "data": {
      "image/png": "[encoded data removed]",
      "text/plain": [
       "<matplotlib.figure.Figure at 0x7efc455a8898>"
      ]
     },
     "metadata": {
      "needs_background": "light"
     },
     "output_type": "display_data"
    },
    {
     "name": "stdout",
     "output_type": "stream",
     "text": [
      "Meta Param: radius = 0.05, factor = 1.5, num iterations = 30.0, initia uhat = full_lockdown\n",
      "List of Fractional Rewards: [0.996807454103071, 1.0, 0.9953524959193193, 0.9987344779977078, 0.9576885089162613, 0.9798012246881883]\n",
      "Histogram of Fractional Rewards:\n"
     ]
    },
    {
     "data": {
      "image/png": "[encoded data removed]",
      "text/plain": [
       "<matplotlib.figure.Figure at 0x7efc9bad7b38>"
      ]
     },
     "metadata": {
      "needs_background": "light"
     },
     "output_type": "display_data"
    },
    {
     "name": "stdout",
     "output_type": "stream",
     "text": [
      "Meta Param: radius = 0.05, factor = 1.5, num iterations = 30.0, initia uhat = full_open\n",
      "List of Fractional Rewards: [0.9972060494235498, 1.0, 0.998589956987499, 0.9985437722545695, 0.9831934871982039, 0.9819019572583371]\n",
      "Histogram of Fractional Rewards:\n"
     ]
    },
    {
     "data": {
      "image/png": "[encoded data removed]",
      "text/plain": [
       "<matplotlib.figure.Figure at 0x7efc9b35b668>"
      ]
     },
     "metadata": {
      "needs_background": "light"
     },
     "output_type": "display_data"
    },
    {
     "name": "stdout",
     "output_type": "stream",
     "text": [
      "Meta Param: radius = 0.05, factor = 2, num iterations = 40.0, initia uhat = dynamic_gradient\n",
      "List of Fractional Rewards: [0.9998391765660253, 1.0, 0.9929778620598274, 1.0, 0.98979063708076, 1.0]\n",
      "Histogram of Fractional Rewards:\n"
     ]
    },
    {
     "data": {
      "image/png": "[encoded data removed]",
      "text/plain": [
       "<matplotlib.figure.Figure at 0x7efc45ae6978>"
      ]
     },
     "metadata": {
      "needs_background": "light"
     },
     "output_type": "display_data"
    },
    {
     "name": "stdout",
     "output_type": "stream",
     "text": [
      "Meta Param: radius = 0.05, factor = 2, num iterations = 40.0, initia uhat = full_lockdown\n",
      "List of Fractional Rewards: [0.996807454103071, 1.0, 0.9953524959193193, 0.9987344779977078, 0.9576885089162613, 0.9798012246881883]\n",
      "Histogram of Fractional Rewards:\n"
     ]
    },
    {
     "data": {
      "image/png": "[encoded data removed]",
      "text/plain": [
       "<matplotlib.figure.Figure at 0x7efc9b2d92b0>"
      ]
     },
     "metadata": {
      "needs_background": "light"
     },
     "output_type": "display_data"
    },
    {
     "name": "stdout",
     "output_type": "stream",
     "text": [
      "Meta Param: radius = 0.05, factor = 2, num iterations = 40.0, initia uhat = full_open\n",
      "List of Fractional Rewards: [0.9972060494235498, 1.0, 0.9986545361054376, 0.9985892083087052, 0.983471469566115, 0.9819019572583375]\n",
      "Histogram of Fractional Rewards:\n"
     ]
    },
    {
     "data": {
      "image/png": "[encoded data removed]",
      "text/plain": [
       "<matplotlib.figure.Figure at 0x7efc450041d0>"
      ]
     },
     "metadata": {
      "needs_background": "light"
     },
     "output_type": "display_data"
    },
    {
     "name": "stdout",
     "output_type": "stream",
     "text": [
      "Meta Param: radius = 0.1, factor = 1, num iterations = 10.0, initia uhat = dynamic_gradient\n",
      "List of Fractional Rewards: [1.0, 0.9963793833497858, 0.9989009550611769, 1.0, 0.9999311731013811]\n",
      "Histogram of Fractional Rewards:\n"
     ]
    },
    {
     "data": {
      "image/png": "[encoded data removed]",
      "text/plain": [
       "<matplotlib.figure.Figure at 0x7efc9bbfdcc0>"
      ]
     },
     "metadata": {
      "needs_background": "light"
     },
     "output_type": "display_data"
    },
    {
     "name": "stdout",
     "output_type": "stream",
     "text": [
      "Meta Param: radius = 0.1, factor = 1, num iterations = 10.0, initia uhat = full_lockdown\n",
      "List of Fractional Rewards: [0.9961245545593044, 1.0, 0.9936492650492463, 0.998445554070719, 0.9547927450532573, 0.9802792664910228]\n",
      "Histogram of Fractional Rewards:\n"
     ]
    }
   ],
   "source": [
    "# Now for each combination of meta-parameters we can plot a histogram of the fractional rewards.\n",
    "# This should give an idea of how good the meta-parameters are for all the instances.\n",
    "\n",
    "\n",
    "# Here you can choose which combination of meta-param to plot\n",
    "meta_parameters = {\n",
    "        \"trust_region_radius\":[0,0.05,0.1,0.2,0.4,0.6],\n",
    "        \"max_inner_iterations_mult\":[1, 1.5, 2],\n",
    "        \"initial_uhat\":[\"dynamic_gradient\", \"full_lockdown\", \"full_open\"]\n",
    "    }\n",
    "\n",
    "\n",
    "#You can choose which combination of parameters to plot\n",
    "xis = [0, 30 * 37199.03, 140 * 37199.03]\n",
    "etas = [0, 0.1]\n",
    "\n",
    "\n",
    "\n",
    "for radius in meta_parameters[\"trust_region_radius\"]:\n",
    "    for factor in meta_parameters[\"max_inner_iterations_mult\"]:\n",
    "        for initial_uhat in meta_parameters[\"initial_uhat\"]:\n",
    "            print(f\"Meta Param: radius = {radius}, factor = {factor}, num iterations = {factor/radius if radius>0 else 0}, initia uhat = {initial_uhat}\")\n",
    "            frac_rewards_list = list(all_data.loc[(all_data.radius==radius) &\n",
    "                                                  (all_data.factor==factor) & \n",
    "                                                  (all_data.initial_uhat==initial_uhat) &\n",
    "                                                  (all_data.xi.isin(xis)) &\n",
    "                                                  (all_data.eta.isin(etas)), \"FractionalReward\"])\n",
    "            print(f\"List of Fractional Rewards: {frac_rewards_list}\")\n",
    "            num_bins = 128\n",
    "            print(\"Histogram of Fractional Rewards:\")\n",
    "            plt.hist(frac_rewards_list, num_bins, facecolor='blue', alpha=0.5)\n",
    "            plt.show()"
   ]
  },
  {
   "cell_type": "code",
   "execution_count": null,
   "metadata": {},
   "outputs": [],
   "source": []
  }
 ],
 "metadata": {
  "kernelspec": {
   "display_name": "Python 3",
   "language": "python",
   "name": "python3"
  },
  "language_info": {
   "codemirror_mode": {
    "name": "ipython",
    "version": 3
   },
   "file_extension": ".py",
   "mimetype": "text/x-python",
   "name": "python",
   "nbconvert_exporter": "python",
   "pygments_lexer": "ipython3",
   "version": "3.6.9"
  }
 },
 "nbformat": 4,
 "nbformat_minor": 4
}
